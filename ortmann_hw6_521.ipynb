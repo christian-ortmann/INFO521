{
 "cells": [
  {
   "cell_type": "markdown",
   "id": "0878c04d",
   "metadata": {},
   "source": [
    "## Course Information\n",
    "INFO 521: Introduction to Machine Learning\\\n",
    "Instructor: Xuan Lu, College of Information Science"
   ]
  },
  {
   "cell_type": "markdown",
   "id": "770bf102",
   "metadata": {},
   "source": [
    "## Instructions\n",
    "#### Objectives\n",
    "This worksheet will assess your knowledge of basic commands in Python. Please review the lectures, suggested readings, and additional resources before starting the homework, as this document closely follows the provided materials.\n",
    "\n",
    "#### Grading\n",
    "Please note that grades are **NOT exclusively based on your final answers**. We will be grading the overall structure and logic of your code. Feel free to use as many lines as you need to answer each of the questions. I also highly recommend and strongly encourage adding comments (`#`) to your code. Comments will certainly improve the reproducibility and readability of your submission. Commenting your code is also good coding practice. **Specifically for the course, you’ll get better feedback if the TA is able to understand your code in detail.**\n",
    "\n",
    "__Total score__: 100 points.\n",
    "\n",
    "#### Submission\n",
    "This homework is due by the end of the week it is released (**Sunday, 11:59 pm AZ time**). Please contact the instructor if you are (i) having issues opening the assignment, (ii) not understanding the questions, or (iii) having issues submitting your assignment. Note that late submissions are subject to a penalty (see late work policies in the syllabus).\n",
    "- Please submit a single Jupyter Notebook file (this file). Answers to each question should be included in the relevant block of code (see below). Rename your file to \"**lastname_Hw6.ipynb**\" before submitting. <font color='red'>A broken file won’t be graded, so please ensure that your file is accessible.</font> If a given block of code is causing issues and you didn't manage to fix it, please add comments.\n",
    "\n",
    "#### Time commitment\n",
    "Please reach out if you’re taking more than ~18h to complete (1) this homework, (2) reading the book chapters, and (3) going over the lectures. I will be happy to provide accommodations if necessary. **Do not wait until the last minute to start working on this homework**. In most cases, working under pressure will certainly increase the time needed to answer each of these questions and the instructor and the TA might not be 100% available on Sundays to troubleshoot with you.\n",
    "\n",
    "#### Looking for help?\n",
    "First, please go over the relevant readings for this week. Second, if you’re still struggling with any of the questions, do some independent research (e.g. stackoverflow is a wonderful resource). Don’t forget that your classmates will also be working on the same questions - reach out for help (check under the Discussion forum for folks looking to interact with other students in this class or start your own thread). Finally, the TA is available to answer any questions during office hours and via email."
   ]
  },
  {
   "cell_type": "markdown",
   "id": "8aea41e0",
   "metadata": {},
   "source": [
    "## Questions\n",
    "#### Author:\n",
    "Name: [Your name]\\\n",
    "Affiliation: [Your affiliation]"
   ]
  },
  {
   "cell_type": "markdown",
   "id": "f3223c2a",
   "metadata": {},
   "source": [
    "### Conceptual"
   ]
  },
  {
   "cell_type": "markdown",
   "id": "faf27110",
   "metadata": {},
   "source": [
    "#### Question 1\n",
    "\n",
    "Suppose that a curve $\\hat{g}$ is computed to smoothly fit a set of `n` points using the following formula:\n",
    "\n",
    "  $$\n",
    "  \\hat{g} = \\arg\\min_{g}(\\sum_{i=1}^n (y_i - g(x_i))^2 +  \\lambda \\int [g^{(m)} (x)]^2 dx )\n",
    "  $$\n",
    "where $g^{(m)}$  represents the $m^{th}$ derivative of $g$ (and $g^{(0)} = g$). Provide a description (or sketch) of $\\hat{g}$ in each of the following scenarios. **Again, don't forget that $m^{th}$ is related to the derivative of $g$**.\n",
    "\n",
    "  (a) $\\lambda$ = $\\infty$, $m = 0$."
   ]
  },
  {
   "cell_type": "markdown",
   "id": "c8031981",
   "metadata": {},
   "source": [
    "   > **_Answer:_**  [BEGIN SOLUTION]."
   ]
  },
  {
   "cell_type": "markdown",
   "id": "0d84833d",
   "metadata": {},
   "source": [
    "  (b) $\\lambda$ = $\\infty$, $m = 1$.\n",
    "  "
   ]
  },
  {
   "cell_type": "markdown",
   "id": "1afb6395",
   "metadata": {},
   "source": [
    "  > **_Answer:_**  [BEGIN SOLUTION]."
   ]
  },
  {
   "cell_type": "markdown",
   "id": "f7a53f51",
   "metadata": {},
   "source": [
    "  (c) $\\lambda$ = $\\infty$, $m = 2$.\n",
    "  "
   ]
  },
  {
   "cell_type": "markdown",
   "id": "92b11036",
   "metadata": {},
   "source": [
    "  > **_Answer:_**  [BEGIN SOLUTION].\n",
    "  "
   ]
  },
  {
   "cell_type": "markdown",
   "id": "05315076",
   "metadata": {},
   "source": [
    "  (d) $\\lambda$ = $\\infty$, $m = 3$.\n",
    "  "
   ]
  },
  {
   "cell_type": "markdown",
   "id": "12130d09",
   "metadata": {},
   "source": [
    "  > **_Answer:_**  [BEGIN SOLUTION].\n",
    "  "
   ]
  },
  {
   "cell_type": "markdown",
   "id": "97071474",
   "metadata": {},
   "source": [
    "  (e) $\\lambda$ = 0, $m = 3$.\n",
    "  "
   ]
  },
  {
   "cell_type": "markdown",
   "id": "7566b4c7",
   "metadata": {},
   "source": [
    "  > **_Answer:_**  [BEGIN SOLUTION]."
   ]
  },
  {
   "cell_type": "markdown",
   "id": "df09285a",
   "metadata": {},
   "source": [
    "#### Question 2\n",
    "\n",
    "For (1) step functions, (2) local regression, and (3) GAMs: provide one situation when using that particular model is advantageous. For instance, “GAMs is likely the preferred option when the question I’m interested in addressing involves…”. "
   ]
  },
  {
   "cell_type": "markdown",
   "id": "10b59f7f",
   "metadata": {},
   "source": [
    "> **_Answer:_**  [BEGIN SOLUTION]."
   ]
  },
  {
   "cell_type": "markdown",
   "id": "a61a0993",
   "metadata": {},
   "source": [
    "#### Question 3\n",
    "\n",
    "Brifly define the following types of smooth functions in `pygam` and list at least one relevant potential use.\n",
    "\n",
    "a) `s()`"
   ]
  },
  {
   "cell_type": "markdown",
   "id": "f31afa0d",
   "metadata": {},
   "source": [
    "> **_Answer:_**  [BEGIN SOLUTION]."
   ]
  },
  {
   "cell_type": "markdown",
   "id": "919720cb",
   "metadata": {},
   "source": [
    "b) `te()`"
   ]
  },
  {
   "cell_type": "markdown",
   "id": "6bb1c233",
   "metadata": {},
   "source": [
    "> **_Answer:_**  [BEGIN SOLUTION]."
   ]
  },
  {
   "cell_type": "markdown",
   "id": "428dc3e4",
   "metadata": {},
   "source": [
    "#### Question 4\n",
    "\n",
    "Briefly explain what spatial and temporal autocorrelation are? List one way in which GAMs could help to account for this (e.g. indicate the type of smooth function you would use or potential types of correlation structures)."
   ]
  },
  {
   "cell_type": "markdown",
   "id": "afd2f401",
   "metadata": {},
   "source": [
    "> **_Answer:_**  [BEGIN SOLUTION]."
   ]
  },
  {
   "cell_type": "markdown",
   "id": "38c6ebc3",
   "metadata": {},
   "source": [
    "#### Question 5\n",
    "\n",
    "Consider two curves $\\hat{g}1$ and $\\hat{g}2$, defined by\n",
    "\n",
    "  $$\n",
    "  \\hat{g}1 = \\arg\\min_{g}(\\sum_{i=1}^n (y_i - g(x_i))^2 +  \\lambda \\int [g^{(3)} (x)]^2 dx )\n",
    "  $$\n",
    "  \n",
    "  $$\n",
    "  \\hat{g}2 = \\arg\\min_{g}(\\sum_{i=1}^n (y_i - g(x_i))^2 +  \\lambda \\int [g^{(4)} (x)]^2 dx )\n",
    "  $$\n",
    "  \n",
    " \n",
    "where $g^{(m)}$ represents the $m^{th}$ derivative of $g$. Now, answer the following questions (and include a brief explanation):\n",
    "\n",
    "  a) As $\\lambda \\rightarrow \\infty$, will $\\hat{g}1$ or $\\hat{g}2$ have smaller training RSS?\n",
    "  "
   ]
  },
  {
   "cell_type": "markdown",
   "id": "82e3bdf4",
   "metadata": {},
   "source": [
    "  > **_Answer:_**  [BEGIN SOLUTION].\n",
    "  "
   ]
  },
  {
   "cell_type": "markdown",
   "id": "b5ea88da",
   "metadata": {},
   "source": [
    "  b) As $\\lambda \\rightarrow \\infty$, will $\\hat{g}1$ or $\\hat{g}2$ have smaller test RSS?\n",
    "  "
   ]
  },
  {
   "cell_type": "markdown",
   "id": "16c27193",
   "metadata": {},
   "source": [
    "  > **_Answer:_**  [BEGIN SOLUTION]."
   ]
  },
  {
   "cell_type": "markdown",
   "id": "982e15a9",
   "metadata": {},
   "source": [
    "  c) For $\\lambda= 0$, will $\\hat{g}1$ or $\\hat{g}2$ have smaller training RSS?\n",
    "  "
   ]
  },
  {
   "cell_type": "markdown",
   "id": "5726b075",
   "metadata": {},
   "source": [
    "  > **_Answer:_**  [BEGIN SOLUTION]."
   ]
  },
  {
   "cell_type": "markdown",
   "id": "264d2f60",
   "metadata": {},
   "source": [
    "## Applied"
   ]
  },
  {
   "cell_type": "markdown",
   "id": "86d36a61",
   "metadata": {},
   "source": [
    "#### Question 6\n",
    "\n",
    "This question relates to the `College` data set.\n",
    "\n",
    "a) Split the data into a training set and a test set (50:50). Using out-of-state tuition as the response and the other variables as the predictors, perform *forward* stepwise selection on the training set in order to identify a satisfactory model that uses just a subset of the predictors."
   ]
  },
  {
   "cell_type": "code",
   "execution_count": null,
   "id": "46dff389",
   "metadata": {},
   "outputs": [],
   "source": [
    "# BEGIN SOLUTION\n",
    "\n",
    "# END SOLUTION"
   ]
  },
  {
   "cell_type": "markdown",
   "id": "e625cced",
   "metadata": {},
   "source": [
    "b) Fit a GAM on the training data, using out-of-state tuition as the response and the features selected in the previous step as the predictors. Plot the results, and briefly explain your findings."
   ]
  },
  {
   "cell_type": "code",
   "execution_count": null,
   "id": "9f8d633b",
   "metadata": {},
   "outputs": [],
   "source": [
    "# BEGIN SOLUTION\n",
    "\n",
    "# END SOLUTION"
   ]
  },
  {
   "cell_type": "markdown",
   "id": "56832031",
   "metadata": {},
   "source": [
    "> **_Answer:_**  [BEGIN SOLUTION]."
   ]
  },
  {
   "cell_type": "markdown",
   "id": "292cb4f2",
   "metadata": {},
   "source": [
    "c) For which variables, if any, is there evidence of a non-linear relationship with the response?"
   ]
  },
  {
   "cell_type": "code",
   "execution_count": null,
   "id": "89d39dad",
   "metadata": {},
   "outputs": [],
   "source": [
    "# BEGIN SOLUTION\n",
    "\n",
    "# END SOLUTION"
   ]
  },
  {
   "cell_type": "markdown",
   "id": "eb1ff0da",
   "metadata": {},
   "source": [
    "> **_Answer:_**  [BEGIN SOLUTION]."
   ]
  },
  {
   "cell_type": "markdown",
   "id": "b0107616",
   "metadata": {},
   "source": [
    "#### Question 7\n",
    "\n",
    "Answer the questions below using the `HW6_data` dataset:"
   ]
  },
  {
   "cell_type": "markdown",
   "id": "cc7be876",
   "metadata": {},
   "source": [
    "  a) Inspect if there is any temporal or spatial trend in the response variable `richness` with plots."
   ]
  },
  {
   "cell_type": "code",
   "execution_count": null,
   "id": "a84c9738",
   "metadata": {},
   "outputs": [],
   "source": [
    "# BEGIN SOLUTION\n",
    "\n",
    "# END SOLUTION"
   ]
  },
  {
   "cell_type": "markdown",
   "id": "e5a960e5",
   "metadata": {},
   "source": [
    "  > **_Answer:_**  [BEGIN SOLUTION]."
   ]
  },
  {
   "cell_type": "markdown",
   "id": "3e6d737a",
   "metadata": {},
   "source": [
    "  b) Now, fit a Poisson GAM that predicts richness using year and location. Note that location is actually two features: `Longitude` and `Latitude`. Name this model `M1`. Plot the model, get the `summary` of `M1`, and answer: Is there evidence for effects of location and year?"
   ]
  },
  {
   "cell_type": "code",
   "execution_count": null,
   "id": "c3447065",
   "metadata": {},
   "outputs": [],
   "source": [
    "# BEGIN SOLUTION\n",
    "\n",
    "# END SOLUTION"
   ]
  },
  {
   "cell_type": "markdown",
   "id": "21a25014",
   "metadata": {},
   "source": [
    "  c) Now, fit another Poisson GAM model with the same structure as in `M1` but also consider the interactions between location (`longitude`, `latitude`) and `year`. Name this model `M2`."
   ]
  },
  {
   "cell_type": "code",
   "execution_count": null,
   "id": "c6274e56",
   "metadata": {},
   "outputs": [],
   "source": [
    "# BEGIN SOLUTION\n",
    "\n",
    "# END SOLUTION"
   ]
  },
  {
   "cell_type": "markdown",
   "id": "c9dff191",
   "metadata": {},
   "source": [
    "d) Use an ANOVA to compare `M1` and `M2`. Which model should we select based on this test?"
   ]
  },
  {
   "cell_type": "code",
   "execution_count": null,
   "id": "a61c5b76",
   "metadata": {},
   "outputs": [],
   "source": [
    "# BEGIN SOLUTION\n",
    "\n",
    "# END SOLUTION"
   ]
  },
  {
   "cell_type": "markdown",
   "id": "322d6d83",
   "metadata": {},
   "source": [
    "e) Finally, can you come up with a simple approach to examine which of the features (`latitude`, `longitude`, or `year`) have a larger impact on the response (`richness`) using GAMs?"
   ]
  },
  {
   "cell_type": "code",
   "execution_count": null,
   "id": "166f7c11",
   "metadata": {},
   "outputs": [],
   "source": [
    "# BEGIN SOLUTION\n",
    "\n",
    "# END SOLUTION"
   ]
  }
 ],
 "metadata": {
  "kernelspec": {
   "display_name": "Python 3 (ipykernel)",
   "language": "python",
   "name": "python3"
  },
  "language_info": {
   "codemirror_mode": {
    "name": "ipython",
    "version": 3
   },
   "file_extension": ".py",
   "mimetype": "text/x-python",
   "name": "python",
   "nbconvert_exporter": "python",
   "pygments_lexer": "ipython3",
   "version": "3.11.4"
  }
 },
 "nbformat": 4,
 "nbformat_minor": 5
}
