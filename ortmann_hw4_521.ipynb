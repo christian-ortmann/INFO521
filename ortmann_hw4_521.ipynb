{
 "cells": [
  {
   "cell_type": "markdown",
   "id": "0878c04d",
   "metadata": {},
   "source": [
    "## Course Information\n",
    "INFO 521: Introduction to Machine Learning\\\n",
    "Instructor: Xuan Lu, College of Information Science"
   ]
  },
  {
   "cell_type": "markdown",
   "id": "770bf102",
   "metadata": {},
   "source": [
    "## Instructions\n",
    "#### Objectives\n",
    "This worksheet will assess your knowledge of basic commands in Python. Please review the lectures, suggested readings, and additional resources before starting the homework, as this document closely follows the provided materials.\n",
    "\n",
    "#### Grading\n",
    "Please note that grades are **NOT exclusively based on your final answers**. We will be grading the overall structure and logic of your code. Feel free to use as many lines as you need to answer each of the questions. I also highly recommend and strongly encourage adding comments (`#`) to your code. Comments will certainly improve the reproducibility and readability of your submission. Commenting your code is also good coding practice. **Specifically for the course, you’ll get better feedback if the TA is able to understand your code in detail.**\n",
    "\n",
    "__Total score__: 100 points, with an additional 10 points available for extra credit.\n",
    "\n",
    "#### Submission\n",
    "This homework is due by the end of the week it is released (**Sunday, 11:59 pm AZ time**). Please contact the instructor if you are (i) having issues opening the assignment, (ii) not understanding the questions, or (iii) having issues submitting your assignment. Note that late submissions are subject to a penalty (see late work policies in the syllabus).\n",
    "- Please submit a single Jupyter Notebook file (this file). Answers to each question should be included in the relevant block of code (see below). Rename your file to \"**lastname_Hw4.ipynb**\" before submitting. <font color='red'>A broken file won’t be graded, so please ensure that your file is accessible.</font> If a given block of code is causing issues and you didn't manage to fix it, please add comments.\n",
    "\n",
    "#### Time commitment\n",
    "Please reach out if you’re taking more than ~18h to complete (1) this homework, (2) reading the book chapters, and (3) going over the lectures. I will be happy to provide accommodations if necessary. **Do not wait until the last minute to start working on this homework**. In most cases, working under pressure will certainly increase the time needed to answer each of these questions and the instructor and the TA might not be 100% available on Sundays to troubleshoot with you.\n",
    "\n",
    "#### Looking for help?\n",
    "First, please go over the relevant readings for this week. Second, if you’re still struggling with any of the questions, do some independent research (e.g. stackoverflow is a wonderful resource). Don’t forget that your classmates will also be working on the same questions - reach out for help (check under the Discussion forum for folks looking to interact with other students in this class or start your own thread). Finally, the TA is available to answer any questions during office hours and via email."
   ]
  },
  {
   "cell_type": "markdown",
   "id": "8aea41e0",
   "metadata": {},
   "source": [
    "## Questions\n",
    "#### Author:\n",
    "Name: [Your name]\\\n",
    "Affiliation: [Your affiliation]"
   ]
  },
  {
   "cell_type": "markdown",
   "id": "f3223c2a",
   "metadata": {},
   "source": [
    "### Conceptual"
   ]
  },
  {
   "cell_type": "markdown",
   "id": "a0c0d0b0",
   "metadata": {},
   "source": [
    "#### Question 1\n",
    "\n",
    "Let’s examine the differences between LDA and QDA.\n",
    "\n",
    "  a) If the Bayes decision boundary is linear, do we expect LDA or QDA to perform better on the training set? What about in the test set?"
   ]
  },
  {
   "cell_type": "markdown",
   "id": "81a21c33",
   "metadata": {},
   "source": [
    "> **_Answer:_**  [BEGIN SOLUTION]."
   ]
  },
  {
   "cell_type": "markdown",
   "id": "21cfe533",
   "metadata": {},
   "source": [
    "  b) If the Bayes decision boundary is non-linear, do we expect LDA or QDA to perform better on the training set? On the test set?"
   ]
  },
  {
   "cell_type": "markdown",
   "id": "8b2135f6",
   "metadata": {},
   "source": [
    "> **_Answer:_**  [BEGIN SOLUTION]."
   ]
  },
  {
   "cell_type": "markdown",
   "id": "3c3798f5",
   "metadata": {},
   "source": [
    "  c) In general, as the sample size n increases, do we expect the test prediction accuracy of QDA relative to LDA to improve, decline, or be unchanged? Why?"
   ]
  },
  {
   "cell_type": "markdown",
   "id": "55164113",
   "metadata": {},
   "source": [
    "> **_Answer:_**  [BEGIN SOLUTION]."
   ]
  },
  {
   "cell_type": "markdown",
   "id": "c59c6f7d",
   "metadata": {},
   "source": [
    "  d) __True or False__: Even if the Bayes decision boundary for a given problem is linear, we will probably achieve a superior test error rate using QDA rather than LDA because QDA is flexible enough to model a linear decision boundary. __Justify your answer__."
   ]
  },
  {
   "cell_type": "markdown",
   "id": "85d6fcab",
   "metadata": {},
   "source": [
    "> **_Answer:_**  [BEGIN SOLUTION]."
   ]
  },
  {
   "cell_type": "markdown",
   "id": "2644b965",
   "metadata": {},
   "source": [
    "#### Question 2\n",
    "\n",
    "In relation to the odds and the Default dataset discussed in the book and lecture,\\\n",
    "  a) On average, what fraction of people with an odds of `0.37` of defaulting on their credit card payment will in fact default?"
   ]
  },
  {
   "cell_type": "markdown",
   "id": "5eeeea44",
   "metadata": {},
   "source": [
    "> **_Answer:_**  [BEGIN SOLUTION]."
   ]
  },
  {
   "cell_type": "markdown",
   "id": "c487ec27",
   "metadata": {},
   "source": [
    "  b) Suppose that an individual has a `16%` chance of defaulting on their credit card payment. What are the odds that they will default?"
   ]
  },
  {
   "cell_type": "markdown",
   "id": "a2898f6f",
   "metadata": {},
   "source": [
    "> **_Answer:_**  [BEGIN SOLUTION]."
   ]
  },
  {
   "cell_type": "markdown",
   "id": "7fe1185f",
   "metadata": {},
   "source": [
    "#### Question 3\n",
    "\n",
    "Suppose that we take a data set, divide it into equally sized training and test sets, and then try out two different classification procedures. First, we use logistic regression and get an error rate of `20%` on the training data and `30%` on the test data. Next we use 1-nearest neighbors (i.e. `K=1`) and get an average error rate (averaged over both test and training data sets) of `18%`. Based on these results, which method should we prefer to use for classification of new observations? Why?"
   ]
  },
  {
   "cell_type": "markdown",
   "id": "55716ad2",
   "metadata": {},
   "source": [
    "> **_Answer:_**  [BEGIN SOLUTION]."
   ]
  },
  {
   "cell_type": "markdown",
   "id": "67a1fc2d",
   "metadata": {},
   "source": [
    "### Applied\n",
    "Feel free to use any function you find suitable if a specific function is not explicitly required."
   ]
  },
  {
   "cell_type": "markdown",
   "id": "e1bddd83",
   "metadata": {},
   "source": [
    "#### Question 4\n",
    "\n",
    "This question should be answered using the `Weekly` data set. This data is similar in nature to the `Smarket` data examined in the book (Ch4, lab). First, load the dataset:"
   ]
  },
  {
   "cell_type": "code",
   "execution_count": null,
   "id": "3b260bcb",
   "metadata": {},
   "outputs": [],
   "source": [
    "# BEGIN SOLUTION\n",
    "\n",
    "# END SOLUTION"
   ]
  },
  {
   "cell_type": "markdown",
   "id": "4dfa7f0c",
   "metadata": {},
   "source": [
    "  a) Produce some numerical and graphical summaries of the `Weekly` data. Can you identify any patterns? Hint: examine the __correlation__ between predictors."
   ]
  },
  {
   "cell_type": "code",
   "execution_count": null,
   "id": "2ca54cac",
   "metadata": {},
   "outputs": [],
   "source": [
    "# BEGIN SOLUTION\n",
    "\n",
    "# END SOLUTION"
   ]
  },
  {
   "cell_type": "markdown",
   "id": "c249d32a",
   "metadata": {},
   "source": [
    "  b) Use the full data set to perform a logistic regression with `Direction` as the response and the five `lag` variables plus `Volume` as predictors. Print the regression results. Do any of the predictors appear to be statistically significant? If so, which ones? "
   ]
  },
  {
   "cell_type": "code",
   "execution_count": null,
   "id": "a0752bfd",
   "metadata": {},
   "outputs": [],
   "source": [
    "# BEGIN SOLUTION\n",
    "\n",
    "# END SOLUTION"
   ]
  },
  {
   "cell_type": "markdown",
   "id": "3d198851",
   "metadata": {},
   "source": [
    "c) Compute the __confusion matrix__ and overall fraction of correct predictions. Explain what the confusion matrix is telling you about the types of mistakes made by logistic regression."
   ]
  },
  {
   "cell_type": "code",
   "execution_count": null,
   "id": "b6eecfe3",
   "metadata": {},
   "outputs": [],
   "source": [
    "# BEGIN SOLUTION\n",
    "\n",
    "# END SOLUTION"
   ]
  },
  {
   "cell_type": "markdown",
   "id": "01b8cc38",
   "metadata": {},
   "source": [
    "  d) Now fit the logistic regression model using a training data period from __1990 to 2008__, with `Lag2` as the only predictor. Compute the confusion matrix and the overall fraction of correct predictions for the held out data (that is, the data from __2009 and 2010__)."
   ]
  },
  {
   "cell_type": "code",
   "execution_count": null,
   "id": "29673837",
   "metadata": {},
   "outputs": [],
   "source": [
    "# BEGIN SOLUTION\n",
    "\n",
    "# END SOLUTION"
   ]
  },
  {
   "cell_type": "markdown",
   "id": "aeb6ba61",
   "metadata": {},
   "source": [
    "e) Repeat (d) using LDA."
   ]
  },
  {
   "cell_type": "code",
   "execution_count": null,
   "id": "7ea59c13",
   "metadata": {},
   "outputs": [],
   "source": [
    "# BEGIN SOLUTION\n",
    "\n",
    "# END SOLUTION"
   ]
  },
  {
   "cell_type": "markdown",
   "id": "2b9cf937",
   "metadata": {},
   "source": [
    "f) Repeat (d) using QDA."
   ]
  },
  {
   "cell_type": "code",
   "execution_count": null,
   "id": "fe6c564d",
   "metadata": {},
   "outputs": [],
   "source": [
    "# BEGIN SOLUTION\n",
    "\n",
    "# END SOLUTION"
   ]
  },
  {
   "cell_type": "markdown",
   "id": "3c42f23c",
   "metadata": {},
   "source": [
    "g) Repeat (d) using KNN with K=1 "
   ]
  },
  {
   "cell_type": "code",
   "execution_count": null,
   "id": "85477c54",
   "metadata": {},
   "outputs": [],
   "source": [
    "# BEGIN SOLUTION\n",
    "\n",
    "# END SOLUTION"
   ]
  },
  {
   "cell_type": "markdown",
   "id": "2be15d54",
   "metadata": {},
   "source": [
    "  h) Which of these methods appears to provide the best results on this data?"
   ]
  },
  {
   "cell_type": "markdown",
   "id": "1b60ad03",
   "metadata": {},
   "source": [
    "> **_Answer:_**  [BEGIN SOLUTION]."
   ]
  },
  {
   "cell_type": "markdown",
   "id": "b7bb579c",
   "metadata": {},
   "source": [
    "#### Question 5\n",
    "\n",
    "Develop a model to predict whether a given car gets high or low gas mileage based on the `Auto` data set. Load the dataset:"
   ]
  },
  {
   "cell_type": "code",
   "execution_count": null,
   "id": "e045b1e7",
   "metadata": {},
   "outputs": [],
   "source": [
    "# BEGIN SOLUTION\n",
    "\n",
    "# END SOLUTION"
   ]
  },
  {
   "cell_type": "markdown",
   "id": "ac62bcfa",
   "metadata": {},
   "source": [
    "a) Create a binary variable, `mpg01`, that contains a `1` if `mpg` contains a value above its median, and a `0` if `mpg` contains a value below its median. You can compute the median using the `median()` function. Note you may find it helpful to use the `data.frame()` function to create a single data set containing both `mpg01` and the other `Auto` variables."
   ]
  },
  {
   "cell_type": "code",
   "execution_count": null,
   "id": "ba20c1aa",
   "metadata": {},
   "outputs": [],
   "source": [
    "# BEGIN SOLUTION\n",
    "\n",
    "# END SOLUTION"
   ]
  },
  {
   "cell_type": "markdown",
   "id": "273842d3",
   "metadata": {},
   "source": [
    "b) __Explore__ the data graphically in order to investigate the association between `mpg01` and the other features. Which of the other features seem most likely to be useful in predicting `mpg01`? _Scatterplots and boxplots may be useful tools to answer this question_. __Describe your findings__."
   ]
  },
  {
   "cell_type": "code",
   "execution_count": null,
   "id": "c2b4eb55",
   "metadata": {},
   "outputs": [],
   "source": [
    "# BEGIN SOLUTION\n",
    "\n",
    "# END SOLUTION"
   ]
  },
  {
   "cell_type": "markdown",
   "id": "ef287f15",
   "metadata": {},
   "source": [
    "> **_Answer:_**  [BEGIN SOLUTION]."
   ]
  },
  {
   "cell_type": "markdown",
   "id": "31b80038",
   "metadata": {},
   "source": [
    "c) Split the data into a training set and a test set (70%, 30%). Set the random seed to _4_ to make the training data reproducible."
   ]
  },
  {
   "cell_type": "code",
   "execution_count": null,
   "id": "860490d4",
   "metadata": {},
   "outputs": [],
   "source": [
    "# BEGIN SOLUTION\n",
    "\n",
    "# END SOLUTION"
   ]
  },
  {
   "cell_type": "markdown",
   "id": "05c6acfe",
   "metadata": {},
   "source": [
    "(d) Perform LDA on the training data in order to predict `mpg01` using the variables that seemed most associated with `mpg01` in (b). What is the test error of the model obtained?"
   ]
  },
  {
   "cell_type": "code",
   "execution_count": null,
   "id": "2a031258",
   "metadata": {},
   "outputs": [],
   "source": [
    "# BEGIN SOLUTION\n",
    "\n",
    "# END SOLUTION"
   ]
  },
  {
   "cell_type": "markdown",
   "id": "2d9184d0",
   "metadata": {},
   "source": [
    "  (e) Perform QDA on the training data in order to predict `mpg01` using the variables that seemed most associated with `mpg01` in (b). What is the test error of the model obtained?"
   ]
  },
  {
   "cell_type": "code",
   "execution_count": null,
   "id": "4239c965",
   "metadata": {},
   "outputs": [],
   "source": [
    "# BEGIN SOLUTION\n",
    "\n",
    "# END SOLUTION"
   ]
  },
  {
   "cell_type": "markdown",
   "id": "4552f996",
   "metadata": {},
   "source": [
    "(f) Perform logistic regression on the training data in order to predict `mpg01` using the variables that seemed most associated with `mpg01` in (b). What is the test error of the model obtained?"
   ]
  },
  {
   "cell_type": "code",
   "execution_count": null,
   "id": "e192c9ee",
   "metadata": {},
   "outputs": [],
   "source": [
    "# BEGIN SOLUTION\n",
    "\n",
    "# END SOLUTION"
   ]
  },
  {
   "cell_type": "markdown",
   "id": "e1bd0d09",
   "metadata": {},
   "source": [
    "### Extra credit"
   ]
  },
  {
   "cell_type": "markdown",
   "id": "964dcb52",
   "metadata": {},
   "source": [
    "Suppose that we wish to predict whether a given stock will issue a dividend this year (`Yes` or `No`) based on $X$, last year’s percent profit. We examine a large number of companies and discover that the mean value of $X$ for companies that issued a dividend was $\\bar X = 10$, while the mean for those that didn’t was $\\bar X = 0$. In addition, the variance of $X$ for these two sets of companies was $\\sigma^2=36$. Finally, 80% of companies issued dividends. Assuming that $X$ follows a normal distribution, predict the probability that a company will issue a dividend this year given that its percentage profit was $X = 4$ last year.\n",
    " \n",
    "Hint: Recall that the density function for a normal random variable is $f(x) = \\frac{e^{-(x - \\mu)^{2}/(2\\sigma^{2}) }} {\\sigma\\sqrt{2\\pi}}$. You will need to use Bayes’ theorem."
   ]
  },
  {
   "cell_type": "markdown",
   "id": "c8a15e9f",
   "metadata": {},
   "source": [
    "> **_Answer:_**  [BEGIN SOLUTION]."
   ]
  }
 ],
 "metadata": {
  "kernelspec": {
   "display_name": "Python 3 (ipykernel)",
   "language": "python",
   "name": "python3"
  },
  "language_info": {
   "codemirror_mode": {
    "name": "ipython",
    "version": 3
   },
   "file_extension": ".py",
   "mimetype": "text/x-python",
   "name": "python",
   "nbconvert_exporter": "python",
   "pygments_lexer": "ipython3",
   "version": "3.11.4"
  }
 },
 "nbformat": 4,
 "nbformat_minor": 5
}
