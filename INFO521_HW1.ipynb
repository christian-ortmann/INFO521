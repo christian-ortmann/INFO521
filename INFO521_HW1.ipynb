{
 "cells": [
  {
   "cell_type": "markdown",
   "id": "0d946d78",
   "metadata": {},
   "source": [
    "## Course Information\n",
    "INFO 521: Introduction to Machine Learning\\\n",
    "Instructor: Xuan Lu, College of Information Science"
   ]
  },
  {
   "cell_type": "markdown",
   "id": "f28a2277",
   "metadata": {},
   "source": [
    "## Instructions\n",
    "#### Objectives\n",
    "This worksheet will assess your knowledge of basic commands in Python. Please review the lectures, suggested readings, and additional resources before starting the homework, as this document closely follows the provided materials.\n",
    "\n",
    "#### Grading\n",
    "Please note that grades are **NOT exclusively based on your final answers**. We will be grading the overall structure and logic of your code. Feel free to use as many lines as you need to answer each of the questions. I also highly recommend and strongly encourage adding comments (`#`) to your code. Comments will certainly improve the reproducibility and readability of your submission. Commenting your code is also good coding practice. **Specifically for the course, you’ll get better feedback if the TA is able to understand your code in detail.**\n",
    "\n",
    "#### Submission\n",
    "This homework is due by the end of the week it is released (**Sunday, 11:59 pm AZ time**). Please contact the instructor if you are (i) having issues opening the assignment, (ii) not understanding the questions, or (iii) having issues submitting your assignment. Note that late submissions are subject to a penalty (see late work policies in the syllabus).\n",
    "- Please submit a single Jupyter Notebook file (this file). Answers to each question should be included in the relevant block of code (see below). Rename your file to \"**lastname_Hw1.ipynb**\" before submitting. If a given block of code is causing issues and you didn't manage to fix it, please add comments.\n",
    "\n",
    "#### Time commitment\n",
    "Please reach out if you’re taking more than ~18h to complete (1) this homework, (2) reading the book chapters, and (3) going over the lectures. I will be happy to provide accommodations if necessary. **Do not wait until the last minute to start working on this homework**. In most cases, working under pressure will certainly increase the time needed to answer each of these questions and the instructor and the TA might not be 100% available on Sundays to troubleshoot with you.\n",
    "\n",
    "#### Looking for help?\n",
    "First, please go over the relevant readings for this week. Second, if you’re still struggling with any of the questions, do some independent research (e.g. stackoverflow is a wonderful resource). Don’t forget that your classmates will also be working on the same questions - reach out for help (check under the Discussion forum for folks looking to interact with other students in this class or start your own thread). Finally, the TA is available to answer any questions during office hours and via email."
   ]
  },
  {
   "cell_type": "markdown",
   "id": "abf9f1d1",
   "metadata": {},
   "source": [
    "## Questions\n",
    "\n",
    "Name: Christian Ortmann\\\n",
    "Affiliation: Computing Sciences Researcher, SMMR; MSDS 25'"
   ]
  },
  {
   "cell_type": "markdown",
   "id": "c748f6a0",
   "metadata": {},
   "source": [
    "#### Question 1\n",
    "\n",
    "Assign the value 26 to a variable *x*.\n",
    "Create a list *y* with the values '[2, 36, 1, 98, 124]'.\n",
    "Multiply the value of *x* with each element of *y* element-wise and save the result in a new list *z*.\n",
    "Calculate the sum of all elements in *z* and save the result in a new variable named *Q1*."
   ]
  },
  {
   "cell_type": "code",
   "execution_count": 20,
   "id": "072bc0ad",
   "metadata": {},
   "outputs": [
    {
     "name": "stdout",
     "output_type": "stream",
     "text": [
      "<class 'int'> 26\n",
      "<class 'list'> [2, 36, 1, 98, 124]\n",
      "<class 'numpy.ndarray'> [  52  936   26 2548 3224]\n",
      "<class 'numpy.int64'> 6786\n"
     ]
    }
   ],
   "source": [
    "# BEGIN SOLUTION\n",
    "\n",
    "x = 26 #assign value of 26 to x\n",
    "y = [2, 36, 1, 98, 124] #create list of values\n",
    "print(type(x), x) #print var type and var for x\n",
    "print(type(y), y) #print var type and var for y\n",
    "import numpy as np #import numerical python (numpy) and alias as np\n",
    "z = np.multiply(x,y) #use np.multiply to multiply element wise\n",
    "print(type(z),z) #print var type and var for z\n",
    "Q1 = np.sum(z) #sum using np.sum for to sum all elements in the array\n",
    "print(type(Q1), Q1) #print var type and var for Q1\n",
    "\n",
    "# END SOLUTION"
   ]
  },
  {
   "cell_type": "markdown",
   "id": "4b6a4616",
   "metadata": {},
   "source": [
    "#### Question 2\n",
    "\n",
    "Generate a sequence from 21 to 400 and save it in a variable named *Q2_1*.\n",
    "Generate a second sequence from 2 to -35 and save it in a variable named *Q2_2*.\n"
   ]
  },
  {
   "cell_type": "code",
   "execution_count": 32,
   "id": "143c2c36",
   "metadata": {},
   "outputs": [
    {
     "name": "stdout",
     "output_type": "stream",
     "text": [
      "<class 'list'> [21, 22, 23, 24, 25, 26, 27, 28, 29, 30, 31, 32, 33, 34, 35, 36, 37, 38, 39, 40, 41, 42, 43, 44, 45, 46, 47, 48, 49, 50, 51, 52, 53, 54, 55, 56, 57, 58, 59, 60, 61, 62, 63, 64, 65, 66, 67, 68, 69, 70, 71, 72, 73, 74, 75, 76, 77, 78, 79, 80, 81, 82, 83, 84, 85, 86, 87, 88, 89, 90, 91, 92, 93, 94, 95, 96, 97, 98, 99, 100, 101, 102, 103, 104, 105, 106, 107, 108, 109, 110, 111, 112, 113, 114, 115, 116, 117, 118, 119, 120, 121, 122, 123, 124, 125, 126, 127, 128, 129, 130, 131, 132, 133, 134, 135, 136, 137, 138, 139, 140, 141, 142, 143, 144, 145, 146, 147, 148, 149, 150, 151, 152, 153, 154, 155, 156, 157, 158, 159, 160, 161, 162, 163, 164, 165, 166, 167, 168, 169, 170, 171, 172, 173, 174, 175, 176, 177, 178, 179, 180, 181, 182, 183, 184, 185, 186, 187, 188, 189, 190, 191, 192, 193, 194, 195, 196, 197, 198, 199, 200, 201, 202, 203, 204, 205, 206, 207, 208, 209, 210, 211, 212, 213, 214, 215, 216, 217, 218, 219, 220, 221, 222, 223, 224, 225, 226, 227, 228, 229, 230, 231, 232, 233, 234, 235, 236, 237, 238, 239, 240, 241, 242, 243, 244, 245, 246, 247, 248, 249, 250, 251, 252, 253, 254, 255, 256, 257, 258, 259, 260, 261, 262, 263, 264, 265, 266, 267, 268, 269, 270, 271, 272, 273, 274, 275, 276, 277, 278, 279, 280, 281, 282, 283, 284, 285, 286, 287, 288, 289, 290, 291, 292, 293, 294, 295, 296, 297, 298, 299, 300, 301, 302, 303, 304, 305, 306, 307, 308, 309, 310, 311, 312, 313, 314, 315, 316, 317, 318, 319, 320, 321, 322, 323, 324, 325, 326, 327, 328, 329, 330, 331, 332, 333, 334, 335, 336, 337, 338, 339, 340, 341, 342, 343, 344, 345, 346, 347, 348, 349, 350, 351, 352, 353, 354, 355, 356, 357, 358, 359, 360, 361, 362, 363, 364, 365, 366, 367, 368, 369, 370, 371, 372, 373, 374, 375, 376, 377, 378, 379, 380, 381, 382, 383, 384, 385, 386, 387, 388, 389, 390, 391, 392, 393, 394, 395, 396, 397, 398, 399, 400]\n",
      "<class 'list'> [2, 1, 0, -1, -2, -3, -4, -5, -6, -7, -8, -9, -10, -11, -12, -13, -14, -15, -16, -17, -18, -19, -20, -21, -22, -23, -24, -25, -26, -27, -28, -29, -30, -31, -32, -33, -34, -35]\n"
     ]
    }
   ],
   "source": [
    "# BEGIN SOLUTION\n",
    "\n",
    "Q2_1 = list(range(21,401,1)) #generate sequence from 21-400, count up to 401 so we also have 400\n",
    "print(type(Q2_1), Q2_1) #print var type and var for Q2_1\n",
    "Q2_2 = list(range(2,-36,-1)) #similar to Q2_1, but we use a negative step\n",
    "print(type(Q2_2), Q2_2) #print var type and var for Q2_2\n",
    "\n",
    "\n",
    "\n",
    "\n",
    "# END SOLUTION"
   ]
  },
  {
   "cell_type": "code",
   "execution_count": null,
   "id": "5d664f45",
   "metadata": {},
   "outputs": [],
   "source": [
    "# BEGIN SOLUTION\n",
    "\n",
    "Q2_1 = list(range(21,401,1)) #generate sequence from 21-400, count up to 401 so we also have 400\n",
    "print(type(Q2_1), Q2_1) #print var type and var for Q2_1\n",
    "Q2_2 = list(range(2,-36,-1)) #similar to Q2_1, but we use a negative step\n",
    "print(type(Q2_2), Q2_2) #print var type and var for Q2_2\n",
    "\n",
    "\n",
    "\n",
    "\n",
    "# END SOLUTION"
   ]
  },
  {
   "cell_type": "markdown",
   "id": "69fdd788",
   "metadata": {},
   "source": [
    "#### Question 3\n",
    "\n",
    "Generate a sequence from -3 to 9 with steps of 0.1 and save it in a variable named *Q3*."
   ]
  },
  {
   "cell_type": "code",
   "execution_count": 22,
   "id": "e4020057",
   "metadata": {},
   "outputs": [],
   "source": [
    "# BEGIN SOLUTION\n",
    "\n",
    "# END SOLUTION"
   ]
  },
  {
   "cell_type": "markdown",
   "id": "62f36a7e",
   "metadata": {},
   "source": [
    "#### Question 4\n",
    "Randomly sample 100 times from a total of 20 elements of *Q3* (with replacement).\n",
    "Save the results in a new variable named *Q4* as a list."
   ]
  },
  {
   "cell_type": "code",
   "execution_count": 23,
   "id": "5227c61d",
   "metadata": {},
   "outputs": [],
   "source": [
    "# BEGIN SOLUTION\n",
    "\n",
    "# END SOLUTION"
   ]
  },
  {
   "cell_type": "markdown",
   "id": "c377acf8",
   "metadata": {},
   "source": [
    "#### Question 5\n",
    "Define two lists: one named *t* with the strings ['mon', 'tue', 'wed', 'thu', 'fri', 'sat'] and another named m with the values [90, 80, 50, 20, 5, 20].\n",
    "Combine these lists column-wise into a DataFrame with 6 rows and 2 columns.\n",
    "Save this DataFrame in a new variable named *Q5*."
   ]
  },
  {
   "cell_type": "code",
   "execution_count": 24,
   "id": "46f07f55",
   "metadata": {},
   "outputs": [],
   "source": [
    "# BEGIN SOLUTION\n",
    "\n",
    "# END SOLUTION"
   ]
  },
  {
   "cell_type": "markdown",
   "id": "5fcaad67",
   "metadata": {},
   "source": [
    "#### Question 6\n",
    "Create three vectors of length 100:\n",
    "- *weight* with a mean of 81 and standard deviation of 0.26, in kilograms;\n",
    "- *height* with a mean of 1.76 and standard deviation of 0.22, in meters;\n",
    "- *age* with a mean of 25 and standard deviation of 5, in years. Generate these vectors by sampling from normal distributions.\\\n",
    "\n",
    "Create a fourth vector *gender* with the same length as height, randomly sampling (with replacement) from the vector [\"A\", \"B\", \"C\"]."
   ]
  },
  {
   "cell_type": "code",
   "execution_count": 25,
   "id": "366fe7f1",
   "metadata": {},
   "outputs": [],
   "source": [
    "# BEGIN SOLUTION\n",
    "\n",
    "# END SOLUTION"
   ]
  },
  {
   "cell_type": "markdown",
   "id": "15b07fcc",
   "metadata": {},
   "source": [
    "#### Question 7\n",
    "Create a DataFrame by combining the four vectors (*weight*, *height*, *age*, and *gender*) as columns.\n",
    "Add a new column named *BMI* with NaN values.\n",
    "Save this DataFrame in a new variable named *Q7*."
   ]
  },
  {
   "cell_type": "code",
   "execution_count": 26,
   "id": "4174cca9",
   "metadata": {},
   "outputs": [],
   "source": [
    "# BEGIN SOLUTION\n",
    "\n",
    "# END SOLUTION"
   ]
  },
  {
   "cell_type": "markdown",
   "id": "d095b646",
   "metadata": {},
   "source": [
    "#### Question 8\n",
    "Generate a new column named *AgeGroup* in the DataFrame *Q7*. \n",
    "- The values in this column should be *True* if the age is out of range (i.e., less than 20 or greater than 30), and *False* otherwise.\n",
    "\n",
    "Save the updated DataFrame in a new variable named *Q8*."
   ]
  },
  {
   "cell_type": "code",
   "execution_count": 27,
   "id": "80370d7f",
   "metadata": {},
   "outputs": [],
   "source": [
    "# BEGIN SOLUTION\n",
    "\n",
    "# END SOLUTION"
   ]
  },
  {
   "cell_type": "markdown",
   "id": "dd27e97c",
   "metadata": {},
   "source": [
    "#### Question 9\n",
    "Calculate the Body Mass Index (BMI) for all people in the *Q8* DataFrame using the formula:\n",
    "$$BMI = \\frac{Weight_{(Kg)}} {Height_{(m)}^2}$$\n",
    "Store the calculated BMI values in the *BMI* column of *Q8*.\n",
    "Save the updated DataFrame in a new variable named *Q9*."
   ]
  },
  {
   "cell_type": "code",
   "execution_count": 28,
   "id": "e35419d4",
   "metadata": {},
   "outputs": [],
   "source": [
    "# BEGIN SOLUTION\n",
    "\n",
    "# END SOLUTION"
   ]
  },
  {
   "cell_type": "markdown",
   "id": "c1a75dc8",
   "metadata": {},
   "source": [
    "#### Question 10\n",
    "Create a function named *function_Q10* that calculates the BMI. The function should take two arguments, height and weight, and return a numerical vector of BMI values.\\\n",
    "Test the function by applying it to the *height* and *weight* columns from the *Q9* DataFrame and show that it works."
   ]
  },
  {
   "cell_type": "code",
   "execution_count": 29,
   "id": "90a37ad4",
   "metadata": {},
   "outputs": [],
   "source": [
    "# BEGIN SOLUTION\n",
    "\n",
    "# END SOLUTION"
   ]
  },
  {
   "cell_type": "markdown",
   "id": "7638a5b2",
   "metadata": {},
   "source": [
    "#### Question 11\n",
    "Create a function named *function_Q11* that calculates the mean BMI for a specific gender. The function should take two arguments:\n",
    "- A DataFrame that contains at least the BMI and Gender columns.\n",
    "- A target gender to calculate the mean BMI for.\n",
    "\n",
    "Test the function by running it with a specific gender (e.g., 'A') to show that it calculates the mean BMI correctly."
   ]
  },
  {
   "cell_type": "code",
   "execution_count": 30,
   "id": "1da9add5",
   "metadata": {},
   "outputs": [],
   "source": [
    "# BEGIN SOLUTION\n",
    "\n",
    "# END SOLUTION"
   ]
  },
  {
   "cell_type": "markdown",
   "id": "b47d0a82",
   "metadata": {},
   "source": [
    "#### Question 12\n",
    "Append a new column named *BMIc* to the *Q9* DataFrame that adjusts the BMI values based on the *AgeGroup* column.\n",
    "Specifically:\n",
    "- If a participant's age falls into the *out of range* category in the *AgeGroup* column, increase their BMI by 10%.\n",
    "- If not, use the original BMI value.\n",
    "\n",
    "Save the updated DataFrame as *Q12*."
   ]
  },
  {
   "cell_type": "code",
   "execution_count": 31,
   "id": "aee6191f",
   "metadata": {},
   "outputs": [],
   "source": [
    "# BEGIN SOLUTION\n",
    "\n",
    "# END SOLUTION"
   ]
  }
 ],
 "metadata": {
  "kernelspec": {
   "display_name": "Python 3 (ipykernel)",
   "language": "python",
   "name": "python3"
  },
  "language_info": {
   "codemirror_mode": {
    "name": "ipython",
    "version": 3
   },
   "file_extension": ".py",
   "mimetype": "text/x-python",
   "name": "python",
   "nbconvert_exporter": "python",
   "pygments_lexer": "ipython3",
   "version": "3.12.1"
  }
 },
 "nbformat": 4,
 "nbformat_minor": 5
}
