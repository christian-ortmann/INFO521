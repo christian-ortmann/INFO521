{
 "cells": [
  {
   "cell_type": "markdown",
   "id": "0d946d78",
   "metadata": {},
   "source": [
    "## Course Information\n",
    "INFO 521: Introduction to Machine Learning\\\n",
    "Instructor: Xuan Lu, College of Information Science"
   ]
  },
  {
   "cell_type": "markdown",
   "id": "f28a2277",
   "metadata": {},
   "source": [
    "## Instructions\n",
    "#### Objectives\n",
    "This worksheet will assess your knowledge of basic commands in Python. Please review the lectures, suggested readings, and additional resources before starting the homework, as this document closely follows the provided materials.\n",
    "\n",
    "#### Grading\n",
    "Please note that grades are **NOT exclusively based on your final answers**. We will be grading the overall structure and logic of your code. Feel free to use as many lines as you need to answer each of the questions. I also highly recommend and strongly encourage adding comments (`#`) to your code. Comments will certainly improve the reproducibility and readability of your submission. Commenting your code is also good coding practice. **Specifically for the course, you’ll get better feedback if the TA is able to understand your code in detail.**\n",
    "\n",
    "#### Submission\n",
    "This homework is due by the end of the week it is released (**Sunday, 11:59 pm AZ time**). Please contact the instructor if you are (i) having issues opening the assignment, (ii) not understanding the questions, or (iii) having issues submitting your assignment. Note that late submissions are subject to a penalty (see late work policies in the syllabus).\n",
    "- Please submit a single Jupyter Notebook file (this file). Answers to each question should be included in the relevant block of code (see below). Rename your file to \"**lastname_Hw1.ipynb**\" before submitting. If a given block of code is causing issues and you didn't manage to fix it, please add comments.\n",
    "\n",
    "#### Time commitment\n",
    "Please reach out if you’re taking more than ~18h to complete (1) this homework, (2) reading the book chapters, and (3) going over the lectures. I will be happy to provide accommodations if necessary. **Do not wait until the last minute to start working on this homework**. In most cases, working under pressure will certainly increase the time needed to answer each of these questions and the instructor and the TA might not be 100% available on Sundays to troubleshoot with you.\n",
    "\n",
    "#### Looking for help?\n",
    "First, please go over the relevant readings for this week. Second, if you’re still struggling with any of the questions, do some independent research (e.g. stackoverflow is a wonderful resource). Don’t forget that your classmates will also be working on the same questions - reach out for help (check under the Discussion forum for folks looking to interact with other students in this class or start your own thread). Finally, the TA is available to answer any questions during office hours and via email."
   ]
  },
  {
   "cell_type": "markdown",
   "id": "abf9f1d1",
   "metadata": {},
   "source": [
    "## Questions\n",
    "\n",
    "Name: [Your name]\\\n",
    "Affiliation: [Your affiliation]"
   ]
  },
  {
   "cell_type": "markdown",
   "id": "c748f6a0",
   "metadata": {},
   "source": [
    "#### Question 1\n",
    "\n",
    "Assign the value 26 to a variable *x*.\n",
    "Create a list *y* with the values '[2, 36, 1, 98, 124]'.\n",
    "Multiply the value of *x* with each element of *y* element-wise and save the result in a new list *z*.\n",
    "Calculate the sum of all elements in *z* and save the result in a new variable named *Q1*."
   ]
  },
  {
   "cell_type": "code",
   "execution_count": null,
   "id": "072bc0ad",
   "metadata": {},
   "outputs": [],
   "source": [
    "# BEGIN SOLUTION\n",
    "\n",
    "# END SOLUTION"
   ]
  },
  {
   "cell_type": "markdown",
   "id": "4b6a4616",
   "metadata": {},
   "source": [
    "#### Question 2\n",
    "\n",
    "Generate a sequence from 21 to 400 and save it in a variable named *Q2_1*.\n",
    "Generate a second sequence from 2 to -35 and save it in a variable named *Q2_2*.\n"
   ]
  },
  {
   "cell_type": "code",
   "execution_count": null,
   "id": "143c2c36",
   "metadata": {},
   "outputs": [],
   "source": [
    "# BEGIN SOLUTION\n",
    "\n",
    "# END SOLUTION"
   ]
  },
  {
   "cell_type": "markdown",
   "id": "69fdd788",
   "metadata": {},
   "source": [
    "#### Question 3\n",
    "\n",
    "Generate a sequence from -3 to 9 with steps of 0.1 and save it in a variable named *Q3*."
   ]
  },
  {
   "cell_type": "code",
   "execution_count": null,
   "id": "e4020057",
   "metadata": {},
   "outputs": [],
   "source": [
    "# BEGIN SOLUTION\n",
    "\n",
    "# END SOLUTION"
   ]
  },
  {
   "cell_type": "markdown",
   "id": "62f36a7e",
   "metadata": {},
   "source": [
    "#### Question 4\n",
    "Randomly sample 100 times from a total of 20 elements of *Q3* (with replacement).\n",
    "Save the results in a new variable named *Q4* as a list."
   ]
  },
  {
   "cell_type": "code",
   "execution_count": null,
   "id": "5227c61d",
   "metadata": {},
   "outputs": [],
   "source": [
    "# BEGIN SOLUTION\n",
    "\n",
    "# END SOLUTION"
   ]
  },
  {
   "cell_type": "markdown",
   "id": "c377acf8",
   "metadata": {},
   "source": [
    "#### Question 5\n",
    "Define two lists: one named *t* with the strings ['mon', 'tue', 'wed', 'thu', 'fri', 'sat'] and another named m with the values [90, 80, 50, 20, 5, 20].\n",
    "Combine these lists column-wise into a DataFrame with 6 rows and 2 columns.\n",
    "Save this DataFrame in a new variable named *Q5*."
   ]
  },
  {
   "cell_type": "code",
   "execution_count": null,
   "id": "46f07f55",
   "metadata": {},
   "outputs": [],
   "source": [
    "# BEGIN SOLUTION\n",
    "\n",
    "# END SOLUTION"
   ]
  },
  {
   "cell_type": "markdown",
   "id": "5fcaad67",
   "metadata": {},
   "source": [
    "#### Question 6\n",
    "Create three vectors of length 100:\n",
    "- *weight* with a mean of 81 and standard deviation of 0.26, in kilograms;\n",
    "- *height* with a mean of 1.76 and standard deviation of 0.22, in meters;\n",
    "- *age* with a mean of 25 and standard deviation of 5, in years. Generate these vectors by sampling from normal distributions.\\\n",
    "\n",
    "Create a fourth vector *gender* with the same length as height, randomly sampling (with replacement) from the vector [\"A\", \"B\", \"C\"]."
   ]
  },
  {
   "cell_type": "code",
   "execution_count": null,
   "id": "366fe7f1",
   "metadata": {},
   "outputs": [],
   "source": [
    "# BEGIN SOLUTION\n",
    "\n",
    "# END SOLUTION"
   ]
  },
  {
   "cell_type": "markdown",
   "id": "15b07fcc",
   "metadata": {},
   "source": [
    "#### Question 7\n",
    "Create a DataFrame by combining the four vectors (*weight*, *height*, *age*, and *gender*) as columns.\n",
    "Add a new column named *BMI* with NaN values.\n",
    "Save this DataFrame in a new variable named *Q7*."
   ]
  },
  {
   "cell_type": "code",
   "execution_count": null,
   "id": "4174cca9",
   "metadata": {},
   "outputs": [],
   "source": [
    "# BEGIN SOLUTION\n",
    "\n",
    "# END SOLUTION"
   ]
  },
  {
   "cell_type": "markdown",
   "id": "d095b646",
   "metadata": {},
   "source": [
    "#### Question 8\n",
    "Generate a new column named *AgeGroup* in the DataFrame *Q7*. \n",
    "- The values in this column should be *True* if the age is out of range (i.e., less than 20 or greater than 30), and *False* otherwise.\n",
    "\n",
    "Save the updated DataFrame in a new variable named *Q8*."
   ]
  },
  {
   "cell_type": "code",
   "execution_count": null,
   "id": "80370d7f",
   "metadata": {},
   "outputs": [],
   "source": [
    "# BEGIN SOLUTION\n",
    "\n",
    "# END SOLUTION"
   ]
  },
  {
   "cell_type": "markdown",
   "id": "dd27e97c",
   "metadata": {},
   "source": [
    "#### Question 9\n",
    "Calculate the Body Mass Index (BMI) for all people in the *Q8* DataFrame using the formula:\n",
    "$$BMI = \\frac{Weight_{(Kg)}} {Height_{(m)}^2}$$\n",
    "Store the calculated BMI values in the *BMI* column of *Q8*.\n",
    "Save the updated DataFrame in a new variable named *Q9*."
   ]
  },
  {
   "cell_type": "code",
   "execution_count": null,
   "id": "e35419d4",
   "metadata": {},
   "outputs": [],
   "source": [
    "# BEGIN SOLUTION\n",
    "\n",
    "# END SOLUTION"
   ]
  },
  {
   "cell_type": "markdown",
   "id": "c1a75dc8",
   "metadata": {},
   "source": [
    "#### Question 10\n",
    "Create a function named *function_Q10* that calculates the BMI. The function should take two arguments, height and weight, and return a numerical vector of BMI values.\\\n",
    "Test the function by applying it to the *height* and *weight* columns from the *Q9* DataFrame and show that it works."
   ]
  },
  {
   "cell_type": "code",
   "execution_count": null,
   "id": "90a37ad4",
   "metadata": {},
   "outputs": [],
   "source": [
    "# BEGIN SOLUTION\n",
    "\n",
    "# END SOLUTION"
   ]
  },
  {
   "cell_type": "markdown",
   "id": "7638a5b2",
   "metadata": {},
   "source": [
    "#### Question 11\n",
    "Create a function named *function_Q11* that calculates the mean BMI for a specific gender. The function should take two arguments:\n",
    "- A DataFrame that contains at least the BMI and Gender columns.\n",
    "- A target gender to calculate the mean BMI for.\n",
    "\n",
    "Test the function by running it with a specific gender (e.g., 'A') to show that it calculates the mean BMI correctly."
   ]
  },
  {
   "cell_type": "code",
   "execution_count": null,
   "id": "1da9add5",
   "metadata": {},
   "outputs": [],
   "source": [
    "# BEGIN SOLUTION\n",
    "\n",
    "# END SOLUTION"
   ]
  },
  {
   "cell_type": "markdown",
   "id": "b47d0a82",
   "metadata": {},
   "source": [
    "#### Question 12\n",
    "Append a new column named *BMIc* to the *Q9* DataFrame that adjusts the BMI values based on the *AgeGroup* column.\n",
    "Specifically:\n",
    "- If a participant's age falls into the *out of range* category in the *AgeGroup* column, increase their BMI by 10%.\n",
    "- If not, use the original BMI value.\n",
    "\n",
    "Save the updated DataFrame as *Q12*."
   ]
  },
  {
   "cell_type": "code",
   "execution_count": null,
   "id": "aee6191f",
   "metadata": {},
   "outputs": [],
   "source": [
    "# BEGIN SOLUTION\n",
    "\n",
    "# END SOLUTION"
   ]
  }
 ],
 "metadata": {
  "kernelspec": {
   "display_name": "Python 3 (ipykernel)",
   "language": "python",
   "name": "python3"
  },
  "language_info": {
   "codemirror_mode": {
    "name": "ipython",
    "version": 3
   },
   "file_extension": ".py",
   "mimetype": "text/x-python",
   "name": "python",
   "nbconvert_exporter": "python",
   "pygments_lexer": "ipython3",
   "version": "3.11.4"
  }
 },
 "nbformat": 4,
 "nbformat_minor": 5
}
