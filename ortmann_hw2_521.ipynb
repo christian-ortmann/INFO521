{
 "cells": [
  {
   "cell_type": "markdown",
   "id": "0878c04d",
   "metadata": {},
   "source": [
    "## Course Information\n",
    "INFO 521: Introduction to Machine Learning\\\n",
    "Instructor: Xuan Lu, College of Information Science"
   ]
  },
  {
   "cell_type": "markdown",
   "id": "770bf102",
   "metadata": {},
   "source": [
    "## Instructions\n",
    "#### Objectives\n",
    "This worksheet will assess your knowledge of basic commands in Python. Please review the lectures, suggested readings, and additional resources before starting the homework, as this document closely follows the provided materials.\n",
    "\n",
    "#### Grading\n",
    "Please note that grades are **NOT exclusively based on your final answers**. We will be grading the overall structure and logic of your code. Feel free to use as many lines as you need to answer each of the questions. I also highly recommend and strongly encourage adding comments (`#`) to your code. Comments will certainly improve the reproducibility and readability of your submission. Commenting your code is also good coding practice. **Specifically for the course, you’ll get better feedback if the TA is able to understand your code in detail.**\n",
    "\n",
    "__Total score__: 100 points, with an additional 10 points available for extra credit.\n",
    "\n",
    "#### Submission\n",
    "This homework is due by the end of the week it is released (**Sunday, 11:59 pm AZ time**). Please contact the instructor if you are (i) having issues opening the assignment, (ii) not understanding the questions, or (iii) having issues submitting your assignment. Note that late submissions are subject to a penalty (see late work policies in the syllabus).\n",
    "- Please submit a single Jupyter Notebook file (this file). Answers to each question should be included in the relevant block of code (see below). Rename your file to \"**lastname_Hw2.ipynb**\" before submitting. If a given block of code is causing issues and you didn't manage to fix it, please add comments.\n",
    "\n",
    "#### Time commitment\n",
    "Please reach out if you’re taking more than ~18h to complete (1) this homework, (2) reading the book chapters, and (3) going over the lectures. I will be happy to provide accommodations if necessary. **Do not wait until the last minute to start working on this homework**. In most cases, working under pressure will certainly increase the time needed to answer each of these questions and the instructor and the TA might not be 100% available on Sundays to troubleshoot with you.\n",
    "\n",
    "#### Looking for help?\n",
    "First, please go over the relevant readings for this week. Second, if you’re still struggling with any of the questions, do some independent research (e.g. stackoverflow is a wonderful resource). Don’t forget that your classmates will also be working on the same questions - reach out for help (check under the Discussion forum for folks looking to interact with other students in this class or start your own thread). Finally, the TA is available to answer any questions during office hours and via email."
   ]
  },
  {
   "cell_type": "markdown",
   "id": "8aea41e0",
   "metadata": {},
   "source": [
    "## Questions\n",
    "#### Author:\n",
    "Name: [Your name]\\\n",
    "Affiliation: [Your affiliation]"
   ]
  },
  {
   "cell_type": "markdown",
   "id": "f3223c2a",
   "metadata": {},
   "source": [
    "### Conceptual"
   ]
  },
  {
   "cell_type": "markdown",
   "id": "74c9944f",
   "metadata": {},
   "source": [
    "#### Question 1\n",
    "\n",
    "For each of four scenarios listed below, indicate whether we would generally expect the performance of a flexible statistical learning method to be better or worse than an inflexible method. Justify your answer.\n",
    "\n",
    "- The sample size (number of observations; n) is extremely large, and the number of predictors (features; p) is small.\n",
    "\n",
    "> **_Answer:_**  [BEGIN SOLUTION].\n",
    "\n",
    "- The number of predictors (p) is extremely large, and the number of observations (n) is small.\n",
    "\n",
    "> **_Answer:_**  [BEGIN SOLUTION].\n",
    "\n",
    "- The relationship between the predictors and response is highly non-linear.\n",
    "\n",
    "> **_Answer:_**  [BEGIN SOLUTION].\n",
    "\n",
    "- The variance of the error terms (i.e. $σ^2 = Var(ϵ)$) is extremely high.\n",
    "\n",
    "> **_Answer:_**  [BEGIN SOLUTION]."
   ]
  },
  {
   "cell_type": "markdown",
   "id": "af162be3",
   "metadata": {},
   "source": [
    "#### Question 2\n",
    "\n",
    "In a few sentences, please answer the following questions to the best of your knowledge. Feel free to conduct additional research and cite your sources.\n",
    "\n",
    "- Briefly explain the “curse of dimensionality”, provide a hypothetical example illustrating the concept, and list at least one potential way that is generally used to handle it when using machine learning models.\n",
    "\n",
    "> **_Answer:_**  [BEGIN SOLUTION].\n",
    "\n",
    "- Explain why the relationship between model error and complexity differs when patterns are examined using training and test datasets.\n",
    "\n",
    "> **_Answer:_**  [BEGIN SOLUTION].\n",
    "\n",
    "- To the best of your knowledge, distinguish between training, test, and validation datasets. Briefly describe the importance of each in the context of Machine Learning.\n",
    "\n",
    "> **_Answer:_**  [BEGIN SOLUTION].\n",
    "\n",
    "- Briefly discuss the consequences of overfitting and underfitting.\n",
    "\n",
    "> **_Answer:_**  [BEGIN SOLUTION]."
   ]
  },
  {
   "cell_type": "markdown",
   "id": "3265e4bf",
   "metadata": {},
   "source": [
    "#### Question 3\n",
    "\n",
    "Explain whether each of the scenarios presented below is a classification or regression problem. Indicate whether the situation is mostly interested in conducting inference (explaining patterns) or prediction. Finally, indicate the number of observations (n) and features (p) associated with each of the .\n",
    "\n",
    "- We collect a set of data on the top 500 firms in the US. For each firm we record profit, number of employees, industry and the CEO salary. We are interested in understanding which factors affect CEO salary.\n",
    "\n",
    "> **_Answer:_**  [BEGIN SOLUTION].\n",
    "\n",
    "- We are considering launching a new product and wish to know whether it will be a success or a failure. We collect data on 20 similar products that were previously launched by different companies. For each product we have recorded its type, whether it was a success or failure, price charged for the product, marketing budget, competition price, and ten other variables.\n",
    "\n",
    "> **_Answer:_**  [BEGIN SOLUTION].\n",
    "\n",
    "- We are interested in predicting the % change in the USD/Euro exchange rate in relation to the weekly changes in the world stock markets. Hence we collect weekly data for a given year. For each week we record the % change in the USD/Euro, the % change in the US market, the % change in the British market, and the % change in the German market.\n",
    "\n",
    "> **_Answer:_**  [BEGIN SOLUTION]."
   ]
  },
  {
   "cell_type": "markdown",
   "id": "038dfb10",
   "metadata": {},
   "source": [
    "#### Question 4 \n",
    "\n",
    "Let's now revisit the bias-variance decomposition.\n",
    "\n",
    "- Provide a sketch of typical (squared) bias, variance, training error, test error, and irreducible (sometimes called Bayes error) error curves, on a single plot, as we go from less flexible statistical learning methods towards more flexible approaches. The x-axis should represent the amount of flexibility in the method, and the y-axis should represent the values for each curve. __There should be five main curves. Make sure to label each one__. Now, add two arrows (parallel to the X axis) indicating the direction of increase in over- and under-fitting, respectively. Finally, label the point, also in the X axis, where model complexity is optimal. [_Note: Please either draw your sketch on a piece of paper and then scan or take a photo. If you choose to do this, please submit the image file along with your homework. Feel free to find a way to insert the image into this file. :)_].\n",
    "\n",
    "> **_Answer:_**  [BEGIN SOLUTION].\n",
    "\n",
    "\n",
    "- Explain what the conceptual importance of acknowledging the existence of irreducible error is in the context of Machine Learning. \n",
    "\n",
    "> **_Answer:_**  [BEGIN SOLUTION].\n",
    "\n",
    "\n",
    "- Finally, briefly explain why each of the __five curves__ has the shape displayed.\n",
    "\n",
    "> **_Answer:_**  [BEGIN SOLUTION]."
   ]
  },
  {
   "cell_type": "markdown",
   "id": "53c529ae",
   "metadata": {},
   "source": [
    "#### Question 5\n",
    "You will now think of some real-life applications for statistical learning.\n",
    "\n",
    "- Describe three real-life applications in which classification might be useful. Describe the response variable, as well as the potential predictors. Is the goal of each application inference or prediction? Explain your answer.\n",
    "\n",
    "> **_Answer:_**  [BEGIN SOLUTION].\n",
    "\n",
    "- Describe three real-life applications in which regression  might be useful. Describe the response, as well as the predictors. Is the goal of each application inference or prediction? Explain your answer.\n",
    "\n",
    "> **_Answer:_**  [BEGIN SOLUTION]."
   ]
  },
  {
   "cell_type": "markdown",
   "id": "86a8fe7c",
   "metadata": {},
   "source": [
    "#### Question 6\n",
    "\n",
    "Let’s now review some ethical considerations associated with the development and implementation of Machine Learning algorithms. Please answer each question with as much detail as possible (one or two short paragraphs per question should suffice). Feel free to conduct additional research if you think it’s necessary. I’m looking for well-supported arguments. Your grade won’t be based on whether the instructor and TA agrees or disagrees with your position. Instead, do your best to provide a thoughtful and clear answer.\n",
    "\n",
    "- From your perspective, describe how unbiased must an algorithm be before it can be deployed in the “real world”? Is that level commonly achieved, discussed, or examined?\n",
    "\n",
    "> **_Answer:_**  [BEGIN SOLUTION].\n",
    "\n",
    "\n",
    "- Research labs and companies generally invest the most in improving and developing ML algorithms. Do you think that society in general should also have immediate and equal access to these developments and to their benefits? How would you balance these two goals (e.g. profit and well-being)? Similarly, do you think ML already affects (or will affect) inequalities?\n",
    "\n",
    "> **_Answer:_**  [BEGIN SOLUTION].\n",
    "\n",
    "- What do you see as a solution for problems associated with increasing automation and efficiency, both currently and in the future?\n",
    "\n",
    "> **_Answer:_**  [BEGIN SOLUTION].\n",
    "\n",
    "\n",
    "- We discussed different trade-offs between models in class – one of these was related to model interpretability. Why do you think it is important for machine learning models to be interpretable? Provide at least two reasons. Among the reasons that you listed, which one do you believe is the most important? Explain.\n",
    "\n",
    "> **_Answer:_**  [BEGIN SOLUTION].\n",
    "\n",
    "- Now, between model performance and model interpretability: which of these two qualities do you think is more important. Explain.\n",
    "\n",
    "> **_Answer:_**  [BEGIN SOLUTION].\n",
    "\n",
    "\n",
    "- Particular examples in history show that different algorithms and datasets were originally developed/simulated/compiled with goals related to increasing systemic inequalities. For instance, let’s take a quick look at the _iris_ dataset (__Fisher 1936__). First, how many hits do you get after searching for _iris_ dataset tutorial in Google (feel free to try any similar or more systematic search queries)? Based on this search, list at least two different modern uses of the dataset. Now, go over __Kozak & Łotocka (2013)__ and briefly talk about the biological realism of the dataset. Briefly comment on your thoughts related to why _Annals of eugenics_ showed interested in this dataset. Finally, given the widespread availability of data, do you think that the very frequent use of the _iris_ dataset in the field sends a particular message to society?\n",
    "\n",
    "Kozak, M., & Łotocka, B. (2013). __What should we know about the famous Iris data__. Current Science, 104(5), 579-580.\\\n",
    "Fisher, R. A. (1936). __The use of multiple measurements in taxonomic problems__. Annals of eugenics, 7(2), 179-188.\n",
    "\n",
    "> **_Answer:_**  [BEGIN SOLUTION]."
   ]
  },
  {
   "cell_type": "markdown",
   "id": "67a1fc2d",
   "metadata": {},
   "source": [
    "### Applied"
   ]
  },
  {
   "cell_type": "markdown",
   "id": "e1bddd83",
   "metadata": {},
   "source": [
    "#### Question 7 (421/521)\n",
    "\n",
    "This exercise relates to the `College` data set, which can be found in the file `College.csv`. It contains a number of variables for 777 different universities and colleges in the US. The variables are:\n",
    "\n",
    "- `Private` : Public/private indicator\n",
    "- `Apps` : Number of applications received\n",
    "- `Accept` : Number of applicants accepted\n",
    "- `Enroll` : Number of new students enrolled\n",
    "- `Top10perc` : New students from top 10 % of high school class\n",
    "- `Top25perc` : New students from top 25 % of high school class\n",
    "- `F.Undergrad` : Number of full-time undergraduates\n",
    "- `P.Undergrad` : Number of part-time undergraduates\n",
    "- `Outstate`  : Out-of-state tuition\n",
    "- `Room.Board` : Room and board costs\n",
    "- `Books` : Estimated book costs\n",
    "- `Personal` : Estimated personal spending\n",
    "- `PhD` : Percent of faculty with Ph.D.’s\n",
    "- `Terminal` : Percent of faculty with terminal degree\n",
    "- `S.F.Ratio` : Student/faculty ratio\n",
    "- `perc.alumni` : Percent of alumni who donate\n",
    "- `Expend` : Instructional expenditure per student\n",
    "- `Grad.Rate` : Graduation rate\n",
    "\n",
    "\n",
    "Use the `read_csv()` function in *pandas* library to read the data. Make sure that you have the directory set to the correct location for the data. Note that if you’re not interested in downloading the dataset (which would actually make your submission more reproducible), you could simply read the dataset directly from the website using `read_csv()`. The dataset can be found in the following link: https://book.huihoo.com/introduction-to-statistical-learning/College.csv. \n",
    "\n",
    "- Read dataset and save it as `college`. "
   ]
  },
  {
   "cell_type": "code",
   "execution_count": null,
   "id": "3b260bcb",
   "metadata": {},
   "outputs": [],
   "source": [
    "# BEGIN SOLUTION\n",
    "\n",
    "# END SOLUTION"
   ]
  },
  {
   "cell_type": "markdown",
   "id": "bb5d97f0",
   "metadata": {},
   "source": [
    "- Use the `describe()` function to produce a numerical summary of the variables in the data set."
   ]
  },
  {
   "cell_type": "code",
   "execution_count": null,
   "id": "33d56752",
   "metadata": {},
   "outputs": [],
   "source": [
    "# BEGIN SOLUTION\n",
    "\n",
    "# END SOLUTION"
   ]
  },
  {
   "cell_type": "markdown",
   "id": "b56f6987",
   "metadata": {},
   "source": [
    "- Produce a scatterplot matrix of the first ten columns or variables of the data using the `pandas.plotting.scatter_matrix()` function or another suitable method."
   ]
  },
  {
   "cell_type": "code",
   "execution_count": null,
   "id": "afc2fe04",
   "metadata": {},
   "outputs": [],
   "source": [
    "# BEGIN SOLUTION\n",
    "\n",
    "# END SOLUTION"
   ]
  },
  {
   "cell_type": "markdown",
   "id": "c9791809",
   "metadata": {},
   "source": [
    "- Create side-by-side boxplots of `Outstate` versus `Private` using `matplotlib.pyplot` functions or another suitable method."
   ]
  },
  {
   "cell_type": "code",
   "execution_count": null,
   "id": "255f3f58",
   "metadata": {},
   "outputs": [],
   "source": [
    "# BEGIN SOLUTION\n",
    "\n",
    "# END SOLUTION"
   ]
  },
  {
   "cell_type": "markdown",
   "id": "e606f541",
   "metadata": {},
   "source": [
    "- Create a new binary variable, called `Elite`, by binning the `Top10perc` variable to `college.` We are going to divide universities into two groups based on whether or not the proportion of students coming from the top 10% of their high school classes exceeds 50%."
   ]
  },
  {
   "cell_type": "code",
   "execution_count": null,
   "id": "a968e7aa",
   "metadata": {},
   "outputs": [],
   "source": [
    "# BEGIN SOLUTION\n",
    "\n",
    "# END SOLUTION"
   ]
  },
  {
   "cell_type": "markdown",
   "id": "810306e1",
   "metadata": {},
   "source": [
    "- Use the `describe()` function or another suitable method to determine the number of elite universities. Then, create side-by-side boxplots of `Outstate` versus `Elite`."
   ]
  },
  {
   "cell_type": "code",
   "execution_count": null,
   "id": "e045b1e7",
   "metadata": {},
   "outputs": [],
   "source": [
    "# BEGIN SOLUTION\n",
    "\n",
    "# END SOLUTION"
   ]
  },
  {
   "cell_type": "markdown",
   "id": "9986bdf7",
   "metadata": {},
   "source": [
    "- Produce some histograms with diﬀering numbers of bins for a few of the quantitative variables. Use any functions you find suitable."
   ]
  },
  {
   "cell_type": "code",
   "execution_count": null,
   "id": "ba20c1aa",
   "metadata": {},
   "outputs": [],
   "source": [
    "# BEGIN SOLUTION\n",
    "\n",
    "# END SOLUTION"
   ]
  },
  {
   "cell_type": "markdown",
   "id": "ad1ef028",
   "metadata": {},
   "source": [
    "- Continue exploring the data, and provide a brief summary of what you discover. Some quick ideas: (1) explore graduation rates and briefly talk about what might be driving differences between universities. (2) Compare instructional expenditure per student and graduation rates."
   ]
  },
  {
   "cell_type": "code",
   "execution_count": null,
   "id": "c2b4eb55",
   "metadata": {},
   "outputs": [],
   "source": [
    "# BEGIN SOLUTION\n",
    "\n",
    "# END SOLUTION"
   ]
  },
  {
   "cell_type": "markdown",
   "id": "a31eb13a",
   "metadata": {},
   "source": [
    "- Are there any other features, not taken into account in the dataset, that you think might be important for understanding whether a school is classified as elite or not?"
   ]
  },
  {
   "cell_type": "code",
   "execution_count": null,
   "id": "860490d4",
   "metadata": {},
   "outputs": [],
   "source": [
    "# BEGIN SOLUTION\n",
    "\n",
    "# END SOLUTION"
   ]
  },
  {
   "cell_type": "markdown",
   "id": "4b2c4680",
   "metadata": {},
   "source": [
    "#### Question 8"
   ]
  },
  {
   "cell_type": "markdown",
   "id": "9ae7acac",
   "metadata": {},
   "source": [
    "This exercise involves the `auto` data, which can be found in the file `Auto.data`. Read the data and remove missing values. "
   ]
  },
  {
   "cell_type": "code",
   "execution_count": null,
   "id": "2a031258",
   "metadata": {},
   "outputs": [],
   "source": [
    "# BEGIN SOLUTION\n",
    "\n",
    "# END SOLUTION"
   ]
  },
  {
   "cell_type": "markdown",
   "id": "887ee1a9",
   "metadata": {},
   "source": [
    "- Which of the predictors are quantitative, and which are qualitative?\n",
    "> **_Answer:_**  [BEGIN SOLUTION]."
   ]
  },
  {
   "cell_type": "markdown",
   "id": "5a395dd6",
   "metadata": {},
   "source": [
    "- What is the range of each quantitative predictor?"
   ]
  },
  {
   "cell_type": "code",
   "execution_count": null,
   "id": "f35c7664",
   "metadata": {},
   "outputs": [],
   "source": [
    "# BEGIN SOLUTION\n",
    "\n",
    "# END SOLUTION"
   ]
  },
  {
   "cell_type": "markdown",
   "id": "0f2a86ea",
   "metadata": {},
   "source": [
    "- What is the mean and standard deviation of each quantitative predictor?"
   ]
  },
  {
   "cell_type": "code",
   "execution_count": null,
   "id": "792f9499",
   "metadata": {},
   "outputs": [],
   "source": [
    "# BEGIN SOLUTION\n",
    "\n",
    "# END SOLUTION"
   ]
  },
  {
   "cell_type": "markdown",
   "id": "23ae8d0e",
   "metadata": {},
   "source": [
    "- Now remove the 10th __through__ 85th observations from `auto`. Save this as a new object called `auto2`. What is the range, mean, and standard deviation of each predictor in `auto2`?"
   ]
  },
  {
   "cell_type": "code",
   "execution_count": null,
   "id": "2d1df86e",
   "metadata": {},
   "outputs": [],
   "source": [
    "# BEGIN SOLUTION\n",
    "\n",
    "# END SOLUTION"
   ]
  },
  {
   "cell_type": "markdown",
   "id": "d7a927b1",
   "metadata": {},
   "source": [
    "- Using the full data set (`auto`), investigate the predictors graphically, using scatterplots or other tools of your choice. Create some plots highlighting the relationships among the predictors. Briefly comment on your findings."
   ]
  },
  {
   "cell_type": "code",
   "execution_count": null,
   "id": "0f06be70",
   "metadata": {},
   "outputs": [],
   "source": [
    "# BEGIN SOLUTION\n",
    "\n",
    "# END SOLUTION"
   ]
  },
  {
   "cell_type": "markdown",
   "id": "78ec3b3c",
   "metadata": {},
   "source": [
    "> **_Answer:_**  [BEGIN SOLUTION]."
   ]
  },
  {
   "cell_type": "markdown",
   "id": "908112fc",
   "metadata": {},
   "source": [
    "- Suppose that we were interested in predicting gas mileage (`mpg`) on the basis of the other variables. Do your plots suggest that any of the other variables might be useful in predicting `mpg`? Justify your answer."
   ]
  },
  {
   "cell_type": "code",
   "execution_count": null,
   "id": "f761ced8",
   "metadata": {},
   "outputs": [],
   "source": [
    "# BEGIN SOLUTION\n",
    "\n",
    "# END SOLUTION"
   ]
  },
  {
   "cell_type": "markdown",
   "id": "a80010db",
   "metadata": {},
   "source": [
    "> **_Answer:_**  [BEGIN SOLUTION]."
   ]
  },
  {
   "cell_type": "markdown",
   "id": "89353b47",
   "metadata": {},
   "source": [
    "#### Question 9"
   ]
  },
  {
   "cell_type": "markdown",
   "id": "d81c7d48",
   "metadata": {},
   "source": [
    "- This exercise involves the `Boston` housing data set. To begin, load in the `Boston` data set from `Boston.csv'."
   ]
  },
  {
   "cell_type": "code",
   "execution_count": null,
   "id": "09741d43",
   "metadata": {},
   "outputs": [],
   "source": [
    "# BEGIN SOLUTION\n",
    "\n",
    "# END SOLUTION"
   ]
  },
  {
   "cell_type": "markdown",
   "id": "387b601c",
   "metadata": {},
   "source": [
    "- How many rows are in this data set? How many columns? What do the rows and columns represent?"
   ]
  },
  {
   "cell_type": "code",
   "execution_count": null,
   "id": "0702d1f7",
   "metadata": {},
   "outputs": [],
   "source": [
    "# BEGIN SOLUTION\n",
    "\n",
    "# END SOLUTION"
   ]
  },
  {
   "cell_type": "markdown",
   "id": "8545cfe2",
   "metadata": {},
   "source": [
    "> **_Answer:_**  [BEGIN SOLUTION]."
   ]
  },
  {
   "cell_type": "markdown",
   "id": "ad6f3a3a",
   "metadata": {},
   "source": [
    "- Make some pairwise scatterplots of the predictors (columns) in this data set. Describe your findings. Note that there’s a ton of things that you can comment on. Please select only one or two aspects that you think are relevant."
   ]
  },
  {
   "cell_type": "code",
   "execution_count": null,
   "id": "558d513b",
   "metadata": {},
   "outputs": [],
   "source": [
    "# BEGIN SOLUTION\n",
    "\n",
    "# END SOLUTION"
   ]
  },
  {
   "cell_type": "markdown",
   "id": "2be848fe",
   "metadata": {},
   "source": [
    "> **_Answer:_**  [BEGIN SOLUTION]."
   ]
  },
  {
   "cell_type": "markdown",
   "id": "8e45b7ba",
   "metadata": {},
   "source": [
    "- Are any of the predictors associated with per capita crime rate? If so, explain the relationship."
   ]
  },
  {
   "cell_type": "code",
   "execution_count": null,
   "id": "8125b71b",
   "metadata": {},
   "outputs": [],
   "source": [
    "# BEGIN SOLUTION\n",
    "\n",
    "# END SOLUTION"
   ]
  },
  {
   "cell_type": "markdown",
   "id": "e40b6e08",
   "metadata": {},
   "source": [
    "> **_Answer:_**  [BEGIN SOLUTION]."
   ]
  },
  {
   "cell_type": "markdown",
   "id": "51a91bf1",
   "metadata": {},
   "source": [
    "- Do any of the census tracts of `Boston` appear to have particularly high crime rates? Tax rates? Pupil-teacher ratios? Comment on the range of each predictor."
   ]
  },
  {
   "cell_type": "code",
   "execution_count": null,
   "id": "400d3150",
   "metadata": {},
   "outputs": [],
   "source": [
    "# BEGIN SOLUTION\n",
    "\n",
    "# END SOLUTION"
   ]
  },
  {
   "cell_type": "markdown",
   "id": "d5bfdf7d",
   "metadata": {},
   "source": [
    "> **_Answer:_**  [BEGIN SOLUTION]."
   ]
  },
  {
   "cell_type": "markdown",
   "id": "de212051",
   "metadata": {},
   "source": [
    "- How many of the census tracts in this data set bound the Charles river?"
   ]
  },
  {
   "cell_type": "code",
   "execution_count": null,
   "id": "77eff0cb",
   "metadata": {},
   "outputs": [],
   "source": [
    "# BEGIN SOLUTION\n",
    "\n",
    "# END SOLUTION"
   ]
  },
  {
   "cell_type": "markdown",
   "id": "cb17421c",
   "metadata": {},
   "source": [
    "- What is the median pupil-teacher ratio among the towns in this data set?"
   ]
  },
  {
   "cell_type": "code",
   "execution_count": null,
   "id": "0a29f37b",
   "metadata": {},
   "outputs": [],
   "source": [
    "# BEGIN SOLUTION\n",
    "\n",
    "# END SOLUTION"
   ]
  },
  {
   "cell_type": "markdown",
   "id": "79e08e62",
   "metadata": {},
   "source": [
    "- Which census tract of `Boston` has lowest median value of owner-occupied homes? What are the values of the other predictors for that census tract, and how do those values compare to the overall ranges for those predictors? Comment on your findings."
   ]
  },
  {
   "cell_type": "code",
   "execution_count": null,
   "id": "d07371c8",
   "metadata": {},
   "outputs": [],
   "source": [
    "# BEGIN SOLUTION\n",
    "\n",
    "# END SOLUTION"
   ]
  },
  {
   "cell_type": "markdown",
   "id": "3c4bc803",
   "metadata": {},
   "source": [
    "> **_Answer:_**  [BEGIN SOLUTION]."
   ]
  },
  {
   "cell_type": "markdown",
   "id": "30b2fed1",
   "metadata": {},
   "source": [
    "- In this data set, how many of the census tracts average more than seven rooms per dwelling? More than eight rooms per dwelling? Comment on the census tracts that average more than eight rooms per dwelling."
   ]
  },
  {
   "cell_type": "code",
   "execution_count": null,
   "id": "b586fe52",
   "metadata": {},
   "outputs": [],
   "source": [
    "# BEGIN SOLUTION\n",
    "\n",
    "# END SOLUTION"
   ]
  },
  {
   "cell_type": "markdown",
   "id": "85e1733a",
   "metadata": {},
   "source": [
    "> **_Answer:_**  [BEGIN SOLUTION]."
   ]
  },
  {
   "cell_type": "markdown",
   "id": "e1bd0d09",
   "metadata": {},
   "source": [
    "### Extra credit"
   ]
  },
  {
   "cell_type": "markdown",
   "id": "11e091aa",
   "metadata": {},
   "source": [
    "Re-assessing the `Boston` dataset\n",
    "\n",
    "- The `Boston` dataset is now part of the standard training sets implemented in many libraries and packages across different languages (e.g. `scikit-learn` [\"recently\" deprecated] and `Tensorflow` in `Python`; `MASS` in `R`). Did any of the questions (or your answers) listed above raise any red flags about the dataset?"
   ]
  },
  {
   "cell_type": "markdown",
   "id": "623bb514",
   "metadata": {},
   "source": [
    "> **_Answer:_**  [BEGIN SOLUTION]."
   ]
  },
  {
   "cell_type": "markdown",
   "id": "38bbe360",
   "metadata": {},
   "source": [
    "- This dataset, originally published in __Harrison and Rubinfeld (1978)__, was primarily compiled to examine the effects of environmental factors in driving spatial patterns of the housing market. To date, different packages have implemented alternative versions of the features sampled in the dataset. Please compare the features (and their descriptions) in Table IV from the original study (__Harrison and Rubinfeld, 1978__) to the features used in the Book’s dataset (the one we used in this homework). If the two datasets are not equivalent in their features, briefly (1) discuss the potential motives behind these discrepancies, and (2) comment on whether dropping particular columns was the right solution? Feel free to comment on the potential differences (conceptual and social) associated with training models in each of these two datasets.\n",
    "\n",
    "Harrison Jr, D., & Rubinfeld, D. L. (1978). __Hedonic housing prices and the demand for clean air. Journal of environmental economics and management__, 5(1), 81-102."
   ]
  },
  {
   "cell_type": "markdown",
   "id": "1ffc036c",
   "metadata": {},
   "source": [
    "> **_Answer:_**  [BEGIN SOLUTION]."
   ]
  }
 ],
 "metadata": {
  "kernelspec": {
   "display_name": "Python 3 (ipykernel)",
   "language": "python",
   "name": "python3"
  },
  "language_info": {
   "codemirror_mode": {
    "name": "ipython",
    "version": 3
   },
   "file_extension": ".py",
   "mimetype": "text/x-python",
   "name": "python",
   "nbconvert_exporter": "python",
   "pygments_lexer": "ipython3",
   "version": "3.11.4"
  }
 },
 "nbformat": 4,
 "nbformat_minor": 5
}
