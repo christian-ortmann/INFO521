{
 "cells": [
  {
   "cell_type": "markdown",
   "id": "0878c04d",
   "metadata": {},
   "source": [
    "## Course Information\n",
    "INFO 521: Introduction to Machine Learning\\\n",
    "Instructor: Xuan Lu, College of Information Science"
   ]
  },
  {
   "cell_type": "markdown",
   "id": "770bf102",
   "metadata": {},
   "source": [
    "## Instructions\n",
    "#### Objectives\n",
    "This worksheet will assess your knowledge of basic commands in Python. Please review the lectures, suggested readings, and additional resources before starting the homework, as this document closely follows the provided materials.\n",
    "\n",
    "#### Grading\n",
    "Please note that grades are **NOT exclusively based on your final answers**. We will be grading the overall structure and logic of your code. Feel free to use as many lines as you need to answer each of the questions. I also highly recommend and strongly encourage adding comments (`#`) to your code. Comments will certainly improve the reproducibility and readability of your submission. Commenting your code is also good coding practice. **Specifically for the course, you’ll get better feedback if the TA is able to understand your code in detail.**\n",
    "\n",
    "__Total score__: 120 points, with 20 points for Questions 1-3 and 100 points for the brief independent project.\n",
    "\n",
    "#### Submission\n",
    "This homework is due by the end of October 16th (**Wednesday, 11:59 pm AZ time**). Please contact the instructor if you are (i) having issues opening the assignment, (ii) not understanding the questions, or (iii) having issues submitting your assignment. Note that late submissions are subject to a penalty (see late work policies in the syllabus).\n",
    "- Please submit a single Jupyter Notebook file (this file). Answers to each question should be included in the relevant block of code (see below). Rename your file to \"**lastname_Hw7.ipynb**\" before submitting. <font color='red'>A broken file won’t be graded, so please ensure that your file is accessible.</font> If a given block of code is causing issues and you didn't manage to fix it, please add comments.\n",
    "\n",
    "#### Time commitment\n",
    "Please reach out if you’re taking more than ~18h to complete (1) this homework, (2) reading the book chapters, and (3) going over the lectures. I will be happy to provide accommodations if necessary. **Do not wait until the last minute to start working on this homework**. In most cases, working under pressure will certainly increase the time needed to answer each of these questions and the instructor and the TA might not be 100% available on Sundays to troubleshoot with you.\n",
    "\n",
    "#### Looking for help?\n",
    "First, please go over the relevant readings for this week. Second, if you’re still struggling with any of the questions, do some independent research (e.g. stackoverflow is a wonderful resource). Don’t forget that your classmates will also be working on the same questions - reach out for help (check under the Discussion forum for folks looking to interact with other students in this class or start your own thread). Finally, the TA is available to answer any questions during office hours and via email."
   ]
  },
  {
   "cell_type": "markdown",
   "id": "8aea41e0",
   "metadata": {},
   "source": [
    "## Questions\n",
    "#### Author:\n",
    "Name: [Your name]\\\n",
    "Affiliation: [Your affiliation]"
   ]
  },
  {
   "cell_type": "markdown",
   "id": "f3223c2a",
   "metadata": {},
   "source": [
    "### Conceptual"
   ]
  },
  {
   "cell_type": "markdown",
   "id": "a7f780d4",
   "metadata": {},
   "source": [
    "#### Question 1\n",
    "\n",
    "Draw an example (of your own invention) of a partition of two-dimensional feature space that could result from recursive binary splitting. Your example should contain at least six regions. Draw a decision tree corresponding to this partition. Be sure to label all aspects of your figures, including the regions $R_1$, $R_2$, ... , the cutpoints $t_1$ , $t_2$, ..., and so forth. Please insert your sketch below and make sure the sketch file is attached to your submission."
   ]
  },
  {
   "cell_type": "markdown",
   "id": "e9f6fc1c",
   "metadata": {},
   "source": [
    "  > **_Answer:_**  [BEGIN SOLUTION]."
   ]
  },
  {
   "cell_type": "markdown",
   "id": "5398c525",
   "metadata": {},
   "source": [
    "#### Question 2 (421/521)\n",
    "\n",
    "Suppose we produce ten bootstrapped samples from a data set containing red and green classes. We then apply a classification tree to each bootstrapped sample and, for a specific value of $X$, produce $10$ estimates of $P(Class is Red|X)$:\n",
    "\n",
    "$0.1$, $0.15$, $0.2$, $0.2$, $0.55$, $0.6$, $0.6$, $0.65$, $0.7$, and $0.75$.\n",
    "\n",
    "There are two common ways to combine these results together into a single class prediction. One is the majority vote approach discussed in this week's lecture and readings. The second approach is to classify based on the average probability. In this example, what is the final classification under each of these two approaches?"
   ]
  },
  {
   "cell_type": "markdown",
   "id": "faf27110",
   "metadata": {},
   "source": [
    "  > **_Answer:_**  [BEGIN SOLUTION]."
   ]
  },
  {
   "cell_type": "markdown",
   "id": "264d2f60",
   "metadata": {},
   "source": [
    "## Applied"
   ]
  },
  {
   "cell_type": "markdown",
   "id": "83d9ca46",
   "metadata": {},
   "source": [
    "#### Question 3\n",
    "\n",
    "Apply boosting and random forest to a data set of your choice. Feel free to use any of the datasets in the `ISLP` python package (e.g. `College`) to examine any of the questions that were discussed in any of the previous homeworks. See https://intro-stat-learning.github.io/ISLP/data.html for `ISLP` datasets. Be sure to fit the models on a training set and to evaluate their performance on a test set. How accurate are the results compared to simple methods (e.g. linear or logistic regression models)? Which of these approaches yields the best performance?"
   ]
  },
  {
   "cell_type": "code",
   "execution_count": null,
   "id": "22f5f799",
   "metadata": {},
   "outputs": [],
   "source": [
    "# BEGIN SOLUTION\n",
    "\n",
    "# END SOLUTION"
   ]
  },
  {
   "cell_type": "markdown",
   "id": "e442c578",
   "metadata": {},
   "source": [
    "## Brief independent project"
   ]
  },
  {
   "cell_type": "markdown",
   "id": "81313d54",
   "metadata": {},
   "source": [
    "In this part of the assignment, you will be provided with two options of basic ML code used to examine a given question. __Assume that this code was sent to you by a collaborator who is asking for your help in improving their ML workflow.__ \n",
    "\n",
    "1. Critically examine the steps outlined by your collaborator (e.g. data pre-processing, model development) with the goal of improving the performance of the model given the specific research question. \n",
    "2. Reconsider and re-evaluate their data pre-processing steps.\n",
    "3. Generate an alternative model. Your alternative model can be of the same class as the baseline model (but not necessarily).\n",
    "4. Finally, you will compare your new model to the one suggested by your collaborator. If your model does not outperform your collaborator's model, briefly examine why this was the case.\n",
    "\n",
    "__Please justify your decisions.__ For instance, explain why you decided to plot Y vs X and not Y vs Z; why 20% of observations in the F feature were inputted using mean values; why model N was selected and not M; or even why model performance is solely examined based on accuracy. \n",
    "\n",
    "__I’m looking for systematic and well-justified decisions.__ I am interested in reading thoughtful discussions on the potential practical consequences of your decisions. Hint: Assume that you’re explaining this to your collaborator. __Please be brief and focus on your major decisions__. Your grade will be based on your ability to explain your choices and not the length of your submission. Please do not forget to annotate your code.\n",
    "\n",
    "Your submission (also part of this file; see below) should include only the following sections (also below under __Report__):\n",
    "\n",
    "##### Synopsis\n",
    "A brief (<300 words) description of the dataset, goals of the analysis, methods used, main results, and conclusions.\n",
    "\n",
    "##### Data pre-processing\n",
    "Steps related to missing data, reduction of dimensionality, training and test data splits, center, scale, creating dummy variables, etc.\n",
    "\n",
    "##### Data exploration\n",
    "Correlation analyses, scatterplots, class imbalance, etc.\n",
    "\n",
    "##### Model development\n",
    "This component should include descriptions on why a given model was used, how each of the examined models was designed (e.g. are you using all the features in the dataset?), tuning (if needed), and model evaluation. \n",
    "\n",
    "##### Conclusions\n",
    "Frame your conclusions in two different ways (<300 words). First, conclude on the question that is being addressed in your selected project. Second, compare the performance of your approach in relation to your collaborator's model. \n",
    "\n",
    "\n",
    "Choose one of the two options below. "
   ]
  },
  {
   "cell_type": "markdown",
   "id": "8f1dfee1",
   "metadata": {},
   "source": [
    "__Option 1__. Your collaborator is interested in implementing a new model to classify patients into sick or not sick categories. _They are particularly concerned with the number of times their model fails to correctly classify truly sick patients._ Feel free to use any of the variables in the dataset, reconsider the data pre-processing approach, explore other models, data partitions, etc."
   ]
  },
  {
   "cell_type": "code",
   "execution_count": null,
   "id": "193f7355",
   "metadata": {},
   "outputs": [],
   "source": [
    "import pandas as pd\n",
    "import statsmodels.api as sm\n",
    "from sklearn.metrics import confusion_matrix\n",
    "\n",
    "Data1Raw = pd.read_csv('sick.data', sep = '\\t')\n",
    "Data1 = Data1Raw.drop(columns=['TBG', 'TBG_measured', 'hypopituitary', 'TSH', 'T3', 'TT4', 'T4U', 'FTI']).dropna()\n",
    "Data1['Class'] = Data1['Class'].map({'sick': 1, 'negative': 0})\n",
    "\n",
    "binary_cols = Data1.columns[Data1.isin(['f', 't']).all()]\n",
    "Data1[binary_cols] = Data1[binary_cols].map(lambda x: 1 if x == 't' else 0)\n",
    "Data1['sex'] = Data1['sex'].map({'F': 0, 'M': 1})\n",
    "Data1 = pd.get_dummies(Data1, columns=['referral_source'], dtype='int')\n",
    "\n",
    "X = Data1.drop(columns=['Class'])\n",
    "y = Data1['Class']\n",
    "X = sm.add_constant(X)\n",
    "glm_model = sm.GLM(y, X, family=sm.families.Binomial())\n",
    "glm_results = glm_model.fit()\n",
    "\n",
    "y_pred = glm_results.predict(X)\n",
    "y_pred_class = [1 if p > 0.5 else 0 for p in y_pred]\n",
    "conf_matrix = confusion_matrix(y, y_pred_class)\n",
    "print(conf_matrix)"
   ]
  },
  {
   "cell_type": "markdown",
   "id": "218a8ec3",
   "metadata": {},
   "source": [
    "__Option 2__. Your collaborator is generating a model to predict the duration of flight delays (`dep_delay`+`arr_delay` in the `flights` dataset). _They will be only convinced that your model is better if you are able to reduce uncertainty around predictions for a novel observation (`newObs`)._ Feel free to use any of the variables in the dataset, reconsider the data pre-processing approach, explore other models, data partitions, etc.\n",
    "Hint: Consider the trade-offs associated with the overall model error and prediction error for a particular observation. Consider explaining this to your collaborator."
   ]
  },
  {
   "cell_type": "code",
   "execution_count": null,
   "id": "0cd9f98a",
   "metadata": {},
   "outputs": [],
   "source": [
    "import pandas as pd\n",
    "import statsmodels.api as sm\n",
    "from sklearn.model_selection import train_test_split\n",
    "\n",
    "flights = pd.read_csv(\"flights.data\", sep = '\\t')\n",
    "flights['delay'] = flights['dep_delay'] + flights['arr_delay']\n",
    "flights = flights.loc[flights.delay.notna()]\n",
    "\n",
    "new_obs = flights.sample(n=1,random_state=5)\n",
    "\n",
    "flights_train, flights_test = train_test_split(flights, test_size=0.25, random_state=5)\n",
    "X_train = sm.add_constant(flights_train['distance'])\n",
    "y_train = flights_train['delay']\n",
    "de_model = sm.OLS(y_train, X_train).fit()\n",
    "\n",
    "X_new_obs = sm.add_constant(new_obs[['distance']], has_constant='add')\n",
    "pred = de_model.get_prediction(X_new_obs)\n",
    "pred_summary = pred.summary_frame(alpha=0.05)\n",
    "print(pred_summary)"
   ]
  },
  {
   "cell_type": "markdown",
   "id": "17e51f94",
   "metadata": {},
   "source": [
    "### Report\n",
    "\n",
    "##### Synopsis"
   ]
  },
  {
   "cell_type": "markdown",
   "id": "5a9a90d7",
   "metadata": {},
   "source": [
    "  > **_Answer:_**  [BEGIN SOLUTION]."
   ]
  },
  {
   "cell_type": "markdown",
   "id": "a971d013",
   "metadata": {},
   "source": [
    "##### Data pre-processing"
   ]
  },
  {
   "cell_type": "code",
   "execution_count": null,
   "id": "50f9a960",
   "metadata": {},
   "outputs": [],
   "source": [
    "# BEGIN SOLUTION\n",
    "\n",
    "# END SOLUTION"
   ]
  },
  {
   "cell_type": "markdown",
   "id": "4c1394df",
   "metadata": {},
   "source": [
    "##### Data exploration"
   ]
  },
  {
   "cell_type": "code",
   "execution_count": null,
   "id": "1a894004",
   "metadata": {},
   "outputs": [],
   "source": [
    "# BEGIN SOLUTION\n",
    "\n",
    "# END SOLUTION"
   ]
  },
  {
   "cell_type": "markdown",
   "id": "5583c63e",
   "metadata": {},
   "source": [
    "##### Model development"
   ]
  },
  {
   "cell_type": "code",
   "execution_count": null,
   "id": "839b29d8",
   "metadata": {},
   "outputs": [],
   "source": [
    "# BEGIN SOLUTION\n",
    "\n",
    "# END SOLUTION"
   ]
  },
  {
   "cell_type": "markdown",
   "id": "0f69f1d5",
   "metadata": {},
   "source": [
    "##### Conclusions"
   ]
  },
  {
   "cell_type": "markdown",
   "id": "7b9680f8",
   "metadata": {},
   "source": [
    "  > **_Answer:_**  [BEGIN SOLUTION]."
   ]
  }
 ],
 "metadata": {
  "kernelspec": {
   "display_name": "Python 3 (ipykernel)",
   "language": "python",
   "name": "python3"
  },
  "language_info": {
   "codemirror_mode": {
    "name": "ipython",
    "version": 3
   },
   "file_extension": ".py",
   "mimetype": "text/x-python",
   "name": "python",
   "nbconvert_exporter": "python",
   "pygments_lexer": "ipython3",
   "version": "3.11.4"
  }
 },
 "nbformat": 4,
 "nbformat_minor": 5
}
