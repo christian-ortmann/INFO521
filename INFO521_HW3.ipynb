{
 "cells": [
  {
   "cell_type": "markdown",
   "id": "0878c04d",
   "metadata": {},
   "source": [
    "## Course Information\n",
    "INFO 521: Introduction to Machine Learning\\\n",
    "Instructor: Xuan Lu, College of Information Science"
   ]
  },
  {
   "cell_type": "markdown",
   "id": "770bf102",
   "metadata": {},
   "source": [
    "## Instructions\n",
    "#### Objectives\n",
    "This worksheet will assess your knowledge of basic commands in Python. Please review the lectures, suggested readings, and additional resources before starting the homework, as this document closely follows the provided materials.\n",
    "\n",
    "#### Grading\n",
    "Please note that grades are **NOT exclusively based on your final answers**. We will be grading the overall structure and logic of your code. Feel free to use as many lines as you need to answer each of the questions. I also highly recommend and strongly encourage adding comments (`#`) to your code. Comments will certainly improve the reproducibility and readability of your submission. Commenting your code is also good coding practice. **Specifically for the course, you’ll get better feedback if the TA is able to understand your code in detail.**\n",
    "\n",
    "__Total score__: 100 points, with an additional 10 points available for extra credit.\n",
    "\n",
    "#### Submission\n",
    "This homework is due by the end of the week it is released (**Sunday, 11:59 pm AZ time**). Please contact the instructor if you are (i) having issues opening the assignment, (ii) not understanding the questions, or (iii) having issues submitting your assignment. Note that late submissions are subject to a penalty (see late work policies in the syllabus).\n",
    "- Please submit a single Jupyter Notebook file (this file). Answers to each question should be included in the relevant block of code (see below). Rename your file to \"**lastname_Hw3.ipynb**\" before submitting. <font color='red'>A broken file won’t be graded, so please ensure that your file is accessible.</font> If a given block of code is causing issues and you didn't manage to fix it, please add comments.\n",
    "\n",
    "#### Time commitment\n",
    "Please reach out if you’re taking more than ~18h to complete (1) this homework, (2) reading the book chapters, and (3) going over the lectures. I will be happy to provide accommodations if necessary. **Do not wait until the last minute to start working on this homework**. In most cases, working under pressure will certainly increase the time needed to answer each of these questions and the instructor and the TA might not be 100% available on Sundays to troubleshoot with you.\n",
    "\n",
    "#### Looking for help?\n",
    "First, please go over the relevant readings for this week. Second, if you’re still struggling with any of the questions, do some independent research (e.g. stackoverflow is a wonderful resource). Don’t forget that your classmates will also be working on the same questions - reach out for help (check under the Discussion forum for folks looking to interact with other students in this class or start your own thread). Finally, the TA is available to answer any questions during office hours and via email."
   ]
  },
  {
   "cell_type": "markdown",
   "id": "8aea41e0",
   "metadata": {},
   "source": [
    "## Questions\n",
    "#### Author:\n",
    "Name: [Your name]\\\n",
    "Affiliation: [Your affiliation]"
   ]
  },
  {
   "cell_type": "markdown",
   "id": "f3223c2a",
   "metadata": {},
   "source": [
    "### Conceptual"
   ]
  },
  {
   "cell_type": "markdown",
   "id": "85d6fcab",
   "metadata": {},
   "source": [
    "#### Question 1\n",
    "\n",
    "Describe the null hypotheses to which the _p_-values given in the table (see below). Explain what conclusions you can draw based on these p-values. Your explanation should be phrased in terms of sales, TV, radio, and newspaper, rather than in terms of the coefficients of the linear model.\n",
    "\n",
    "|  | Coefficient | Std. error | t-statistics | p-value |\n",
    "|---|:---:|:---:|:---:|:---:|\n",
    "| Intercept | 2.939 | 0.3119 | 9.42 | <0.0001 |\n",
    "| TV | 0.046 | 0.0014 | 32.81 | <0.0001 |\n",
    "| Radio | 0.189 | 0.0086 | 21.89 | <0.0001 |\n",
    "| Newspaper | -0.001 | 0.0059 | -0.18 | 0.8599 |"
   ]
  },
  {
   "cell_type": "markdown",
   "id": "74c9944f",
   "metadata": {},
   "source": [
    "> **_Answer:_**  [BEGIN SOLUTION]."
   ]
  },
  {
   "cell_type": "markdown",
   "id": "a2898f6f",
   "metadata": {},
   "source": [
    "#### Question 2\n",
    "\n",
    "Assume that you collected a dataset of 100 observations containing a single predictor and a quantitative response. Then, you decided to fit a (i) linear regression model to the data, as well as a separate (ii) cubic regression, i.e. $Y = β_{0} + β_{1}X^{1} + β_{2}X^{2} + β_{3}X^{3} + ϵ$.\n",
    "\n",
    "a) Suppose that the true relationship between $X$ and $Y$ is linear, i.e. $Y = β_{0} + β_{1}X + ϵ$. Consider the training residual sum of squares (_RSS_) for the linear regression, and also the training _RSS_ for the cubic regression. Would we expect one to be lower than the other, would we expect them to be the same, or is there not enough information to tell? Justify your answer."
   ]
  },
  {
   "cell_type": "markdown",
   "id": "779d0081",
   "metadata": {},
   "source": [
    "> **_Answer:_**  [BEGIN SOLUTION]."
   ]
  },
  {
   "cell_type": "markdown",
   "id": "106d52bb",
   "metadata": {},
   "source": [
    "b) Answer part (a) using the test rather than training RSS."
   ]
  },
  {
   "cell_type": "markdown",
   "id": "250f54cc",
   "metadata": {},
   "source": [
    "> **_Answer:_**  [BEGIN SOLUTION]."
   ]
  },
  {
   "cell_type": "markdown",
   "id": "a895896a",
   "metadata": {},
   "source": [
    "c) Suppose that the true relationship between $X$ and $Y$ is not linear. However, we don’t know how far it is from linear. Consider the training _RSS_ for the linear regression, and also the training _RSS_ for the cubic regression. Would we expect one to be lower than the other, would we expect them to be the same, or is there not enough information to tell? Justify your answer."
   ]
  },
  {
   "cell_type": "markdown",
   "id": "7de7838d",
   "metadata": {},
   "source": [
    "> **_Answer:_**  [BEGIN SOLUTION]."
   ]
  },
  {
   "cell_type": "markdown",
   "id": "e495be8d",
   "metadata": {},
   "source": [
    "d) Answer (c) using test rather than training _RSS._"
   ]
  },
  {
   "cell_type": "markdown",
   "id": "af162be3",
   "metadata": {},
   "source": [
    "> **_Answer:_**  [BEGIN SOLUTION]."
   ]
  },
  {
   "cell_type": "markdown",
   "id": "7fe1185f",
   "metadata": {},
   "source": [
    "#### Question 3\n",
    "\n",
    "a) Discuss the implications that uncertainty in $X$ would have on parameter estimates based on linear regression models. Should we care about error in $X$ when fitting OLS regressions? "
   ]
  },
  {
   "cell_type": "markdown",
   "id": "55716ad2",
   "metadata": {},
   "source": [
    "> **_Answer:_**  [BEGIN SOLUTION]."
   ]
  },
  {
   "cell_type": "markdown",
   "id": "762c345c",
   "metadata": {},
   "source": [
    "b) Provide a brief discussion on the concept of regression dilution."
   ]
  },
  {
   "cell_type": "markdown",
   "id": "ebd4aeed",
   "metadata": {},
   "source": [
    "> **_Answer:_**  [BEGIN SOLUTION]."
   ]
  },
  {
   "cell_type": "markdown",
   "id": "7aef8360",
   "metadata": {},
   "source": [
    "c) Are there any linear regression models that account for uncertainty in $X$ and $Y$? Please do some independent research and cite your sources."
   ]
  },
  {
   "cell_type": "markdown",
   "id": "618cc6c4",
   "metadata": {},
   "source": [
    "> **_Answer:_**  [BEGIN SOLUTION]."
   ]
  },
  {
   "cell_type": "markdown",
   "id": "0c0c6c26",
   "metadata": {},
   "source": [
    "d) Distinguish between least squares and maximum likelihood in the context of linear regression models."
   ]
  },
  {
   "cell_type": "markdown",
   "id": "3265e4bf",
   "metadata": {},
   "source": [
    "> **_Answer:_**  [BEGIN SOLUTION]."
   ]
  },
  {
   "cell_type": "markdown",
   "id": "67a1fc2d",
   "metadata": {},
   "source": [
    "### Applied\n",
    "Feel free to use any function you find suitable if a specific function is not explicitly required."
   ]
  },
  {
   "cell_type": "markdown",
   "id": "e1bddd83",
   "metadata": {},
   "source": [
    "#### Question 4\n",
    "\n",
    "This question involves the use of simple linear regression on the `Auto` data set.\n",
    "\n",
    "a) Use the `statsmodels.api` package to perform a simple linear regression with `mpg` as the response and `horsepower` as the predictor. Print the regression results. "
   ]
  },
  {
   "cell_type": "code",
   "execution_count": null,
   "id": "3b260bcb",
   "metadata": {},
   "outputs": [],
   "source": [
    "# BEGIN SOLUTION\n",
    "\n",
    "# END SOLUTION"
   ]
  },
  {
   "cell_type": "markdown",
   "id": "8d205060",
   "metadata": {},
   "source": [
    "Then, answer the questions below:\\\n",
    "i. Is there a relationship between the predictor and the response?"
   ]
  },
  {
   "cell_type": "markdown",
   "id": "8c76ede2",
   "metadata": {},
   "source": [
    "> **_Answer:_**  [BEGIN SOLUTION]."
   ]
  },
  {
   "cell_type": "markdown",
   "id": "029fa4a9",
   "metadata": {},
   "source": [
    "ii. How strong is the relationship between the predictor and the response? Focus on the _RSE_, estimated $R^2$, and _slope._"
   ]
  },
  {
   "cell_type": "markdown",
   "id": "456dcf54",
   "metadata": {},
   "source": [
    "> **_Answer:_**  [BEGIN SOLUTION]."
   ]
  },
  {
   "cell_type": "markdown",
   "id": "89b61fd1",
   "metadata": {},
   "source": [
    "iii. Is the relationship between the predictor and the response positive or negative?"
   ]
  },
  {
   "cell_type": "markdown",
   "id": "2a9e8ca2",
   "metadata": {},
   "source": [
    "> **_Answer:_**  [BEGIN SOLUTION]."
   ]
  },
  {
   "cell_type": "markdown",
   "id": "3f82da3d",
   "metadata": {},
   "source": [
    "iv. What is the predicted mpg associated with a __horsepower__ of __98__? What are the associated 95% confidence and prediction intervals?"
   ]
  },
  {
   "cell_type": "code",
   "execution_count": null,
   "id": "33d56752",
   "metadata": {},
   "outputs": [],
   "source": [
    "# BEGIN SOLUTION\n",
    "\n",
    "# END SOLUTION"
   ]
  },
  {
   "cell_type": "markdown",
   "id": "21797313",
   "metadata": {},
   "source": [
    "v. Now, please briefly explain the main use of inverse predictions. List at least two practical examples."
   ]
  },
  {
   "cell_type": "markdown",
   "id": "65529f0f",
   "metadata": {},
   "source": [
    "> **_Answer:_**  [BEGIN SOLUTION]."
   ]
  },
  {
   "cell_type": "markdown",
   "id": "ce3fb115",
   "metadata": {},
   "source": [
    "vi. Finally, predict horsepower from the same mpg value predicted in (__iv__). Comment on your results."
   ]
  },
  {
   "cell_type": "code",
   "execution_count": null,
   "id": "afc2fe04",
   "metadata": {},
   "outputs": [],
   "source": [
    "# BEGIN SOLUTION\n",
    "\n",
    "# END SOLUTION"
   ]
  },
  {
   "cell_type": "markdown",
   "id": "adb93a27",
   "metadata": {},
   "source": [
    "b) Plot the response and the predictor. Display the least squares regression line as well."
   ]
  },
  {
   "cell_type": "code",
   "execution_count": null,
   "id": "255f3f58",
   "metadata": {},
   "outputs": [],
   "source": [
    "# BEGIN SOLUTION\n",
    "\n",
    "# END SOLUTION"
   ]
  },
  {
   "cell_type": "markdown",
   "id": "b1320631",
   "metadata": {},
   "source": [
    "c) Produce diagnostic plots of the least squares regression fit using any suitable package or function. Comment on any issues you observe with the fit."
   ]
  },
  {
   "cell_type": "code",
   "execution_count": null,
   "id": "a968e7aa",
   "metadata": {},
   "outputs": [],
   "source": [
    "# BEGIN SOLUTION\n",
    "\n",
    "# END SOLUTION"
   ]
  },
  {
   "cell_type": "markdown",
   "id": "b7bb579c",
   "metadata": {},
   "source": [
    "#### Question 5\n",
    "\n",
    "This question involves the use of multiple linear regression on the `Auto` data set. Read the dataset first:"
   ]
  },
  {
   "cell_type": "code",
   "execution_count": null,
   "id": "e045b1e7",
   "metadata": {},
   "outputs": [],
   "source": [
    "# BEGIN SOLUTION\n",
    "\n",
    "# END SOLUTION"
   ]
  },
  {
   "cell_type": "markdown",
   "id": "ac62bcfa",
   "metadata": {},
   "source": [
    "a) Produce a scatterplot matrix which includes all of the variables in the data set."
   ]
  },
  {
   "cell_type": "code",
   "execution_count": null,
   "id": "ba20c1aa",
   "metadata": {},
   "outputs": [],
   "source": [
    "# BEGIN SOLUTION\n",
    "\n",
    "# END SOLUTION"
   ]
  },
  {
   "cell_type": "markdown",
   "id": "273842d3",
   "metadata": {},
   "source": [
    "b) Compute the matrix of correlations between the variables. You will need to exclude the name variable, which is qualitative. Also plot the corresponding correlation matrix."
   ]
  },
  {
   "cell_type": "code",
   "execution_count": null,
   "id": "c2b4eb55",
   "metadata": {},
   "outputs": [],
   "source": [
    "# BEGIN SOLUTION\n",
    "\n",
    "# END SOLUTION"
   ]
  },
  {
   "cell_type": "markdown",
   "id": "31b80038",
   "metadata": {},
   "source": [
    "c) Use the `statsmodels.api` package to perform a multiple linear regression with `mpg` as the response and all other variables except name as the predictors. Print the results. Use the questions below to comment on the output."
   ]
  },
  {
   "cell_type": "code",
   "execution_count": null,
   "id": "860490d4",
   "metadata": {},
   "outputs": [],
   "source": [
    "# BEGIN SOLUTION\n",
    "\n",
    "# END SOLUTION"
   ]
  },
  {
   "cell_type": "markdown",
   "id": "05c6acfe",
   "metadata": {},
   "source": [
    "i. Is there a significant association between the predictors and the response?"
   ]
  },
  {
   "cell_type": "markdown",
   "id": "a9997767",
   "metadata": {},
   "source": [
    "> **_Answer:_**  [BEGIN SOLUTION]."
   ]
  },
  {
   "cell_type": "markdown",
   "id": "77b572cc",
   "metadata": {},
   "source": [
    "ii. Which predictors appear to have a statistically significant relationship to the response?"
   ]
  },
  {
   "cell_type": "markdown",
   "id": "8846e25a",
   "metadata": {},
   "source": [
    "> **_Answer:_**  [BEGIN SOLUTION]."
   ]
  },
  {
   "cell_type": "markdown",
   "id": "c4e43198",
   "metadata": {},
   "source": [
    "iii. What does the coefficient for the year variable suggest?"
   ]
  },
  {
   "cell_type": "markdown",
   "id": "2c6b3c62",
   "metadata": {},
   "source": [
    "> **_Answer:_**  [BEGIN SOLUTION]."
   ]
  },
  {
   "cell_type": "markdown",
   "id": "469e0926",
   "metadata": {},
   "source": [
    "(d) Produce diagnostic plots of the linear regression fit. Again, feel free to use any package or function to create these plots. Comment on any problems you see with the fit. Do the residual plots suggest any unusually large outliers? Does the leverage plot identify any observations with unusually high leverage?"
   ]
  },
  {
   "cell_type": "code",
   "execution_count": null,
   "id": "2a031258",
   "metadata": {},
   "outputs": [],
   "source": [
    "# BEGIN SOLUTION\n",
    "\n",
    "# END SOLUTION"
   ]
  },
  {
   "cell_type": "markdown",
   "id": "4fbedfb3",
   "metadata": {},
   "source": [
    "> **_Answer:_**  [BEGIN SOLUTION]."
   ]
  },
  {
   "cell_type": "markdown",
   "id": "569c927e",
   "metadata": {},
   "source": [
    "(e) Fit linear regression models with interaction effects. Please explore a few different models (~3–4 models). Do any interactions appear to be statistically significant in any of the models you examined? Feel free to use stepwise selection if interested. Your model exploration does not have to be extensive by any means."
   ]
  },
  {
   "cell_type": "code",
   "execution_count": null,
   "id": "f35c7664",
   "metadata": {},
   "outputs": [],
   "source": [
    "# BEGIN SOLUTION\n",
    "\n",
    "# END SOLUTION"
   ]
  },
  {
   "cell_type": "markdown",
   "id": "99404fbe",
   "metadata": {},
   "source": [
    "> **_Answer:_**  [BEGIN SOLUTION]."
   ]
  },
  {
   "cell_type": "markdown",
   "id": "abc91064",
   "metadata": {},
   "source": [
    "(f) Try a few different transformations of the variables, such as `log(X)`, `sqrt(X)`, $X^2$. Comment on your findings."
   ]
  },
  {
   "cell_type": "code",
   "execution_count": null,
   "id": "792f9499",
   "metadata": {},
   "outputs": [],
   "source": [
    "# BEGIN SOLUTION\n",
    "\n",
    "# END SOLUTION"
   ]
  },
  {
   "cell_type": "markdown",
   "id": "e6b6b277",
   "metadata": {},
   "source": [
    "> **_Answer:_**  [BEGIN SOLUTION]."
   ]
  },
  {
   "cell_type": "markdown",
   "id": "db7da30c",
   "metadata": {},
   "source": [
    "#### Question 6\n",
    "\n",
    "In this exercise you will create some simulated data and will fit simple linear regression models to it. Make sure to set a random seed prior to starting part (a) to ensure consistent results."
   ]
  },
  {
   "cell_type": "code",
   "execution_count": null,
   "id": "2d1df86e",
   "metadata": {},
   "outputs": [],
   "source": [
    "# BEGIN SOLUTION\n",
    "\n",
    "# END SOLUTION"
   ]
  },
  {
   "cell_type": "markdown",
   "id": "0d2915a5",
   "metadata": {},
   "source": [
    "a) Create a vector, `x`, containing 100 observations drawn from a $N(0, 1)$ distribution. This represents a feature, `X`."
   ]
  },
  {
   "cell_type": "code",
   "execution_count": null,
   "id": "0f06be70",
   "metadata": {},
   "outputs": [],
   "source": [
    "# BEGIN SOLUTION\n",
    "\n",
    "# END SOLUTION"
   ]
  },
  {
   "cell_type": "markdown",
   "id": "e4ed02ed",
   "metadata": {},
   "source": [
    "b) Create a vector, `eps`, containing 100 observations drawn from a $N(0, 0.25)$ distribution — a normal distribution with mean zero and variance `0.25`."
   ]
  },
  {
   "cell_type": "code",
   "execution_count": null,
   "id": "f761ced8",
   "metadata": {},
   "outputs": [],
   "source": [
    "# BEGIN SOLUTION\n",
    "\n",
    "# END SOLUTION"
   ]
  },
  {
   "cell_type": "markdown",
   "id": "3fc6c1c6",
   "metadata": {},
   "source": [
    "c) Using `x` and `eps`, generate a vector `y` according to the model $Y = -1 + 0.5X + ϵ$. What is the length of the vector `y`? What are the values of $β_0$ and $β_1$ in this linear model?"
   ]
  },
  {
   "cell_type": "code",
   "execution_count": null,
   "id": "09741d43",
   "metadata": {},
   "outputs": [],
   "source": [
    "# BEGIN SOLUTION\n",
    "\n",
    "# END SOLUTION"
   ]
  },
  {
   "cell_type": "markdown",
   "id": "a8b45fc6",
   "metadata": {},
   "source": [
    "d) Create a scatterplot displaying the relationship between `x` and `y`. Comment on what you observe."
   ]
  },
  {
   "cell_type": "code",
   "execution_count": null,
   "id": "0702d1f7",
   "metadata": {},
   "outputs": [],
   "source": [
    "# BEGIN SOLUTION\n",
    "\n",
    "# END SOLUTION"
   ]
  },
  {
   "cell_type": "markdown",
   "id": "2c07e6ad",
   "metadata": {},
   "source": [
    "> **_Answer:_**  [BEGIN SOLUTION]."
   ]
  },
  {
   "cell_type": "markdown",
   "id": "1309ffe4",
   "metadata": {},
   "source": [
    "e) Fit a least squares linear model that relates y and `x`. Comment on the model obtained. How do the estimated coefficients (slope and intercept) compare to the true values used to simulate the data?"
   ]
  },
  {
   "cell_type": "code",
   "execution_count": null,
   "id": "558d513b",
   "metadata": {},
   "outputs": [],
   "source": [
    "# BEGIN SOLUTION\n",
    "\n",
    "# END SOLUTION"
   ]
  },
  {
   "cell_type": "markdown",
   "id": "7b46e811",
   "metadata": {},
   "source": [
    "> **_Answer:_**  [BEGIN SOLUTION]."
   ]
  },
  {
   "cell_type": "markdown",
   "id": "35a6b2ff",
   "metadata": {},
   "source": [
    "f) Display the least squares line on the scatterplot obtained in (d). Draw the true line on the plot, in a different color. Create an appropriate legend. "
   ]
  },
  {
   "cell_type": "code",
   "execution_count": null,
   "id": "8125b71b",
   "metadata": {},
   "outputs": [],
   "source": [
    "# BEGIN SOLUTION\n",
    "\n",
    "# END SOLUTION"
   ]
  },
  {
   "cell_type": "markdown",
   "id": "11d0d17d",
   "metadata": {},
   "source": [
    "g) Now fit a polynomial regression model that predicts $y$ using $x$ and $x^2$. Is there evidence that the quadratic term improves the model fit? Explain your answer."
   ]
  },
  {
   "cell_type": "code",
   "execution_count": null,
   "id": "400d3150",
   "metadata": {},
   "outputs": [],
   "source": [
    "# BEGIN SOLUTION\n",
    "\n",
    "# END SOLUTION"
   ]
  },
  {
   "cell_type": "markdown",
   "id": "187ad87f",
   "metadata": {},
   "source": [
    "> **_Answer:_**  [BEGIN SOLUTION]."
   ]
  },
  {
   "cell_type": "markdown",
   "id": "1feb5bb9",
   "metadata": {},
   "source": [
    "h) Repeat (a)–(f) after modifying the data generation process in such a way that there is less noise in the data. The model analyzed in this section should remain the same. You can do this by decreasing the variance of the normal distribution used to generate the error term ϵ in (b). Describe your results."
   ]
  },
  {
   "cell_type": "code",
   "execution_count": null,
   "id": "77eff0cb",
   "metadata": {},
   "outputs": [],
   "source": [
    "# BEGIN SOLUTION\n",
    "\n",
    "# END SOLUTION"
   ]
  },
  {
   "cell_type": "markdown",
   "id": "e82c1a6c",
   "metadata": {},
   "source": [
    "> **_Answer:_**  [BEGIN SOLUTION]."
   ]
  },
  {
   "cell_type": "markdown",
   "id": "c4a222e1",
   "metadata": {},
   "source": [
    "i) Repeat (a)–(f) after modifying the data generation process in such a way that there is more noise in the data. The model analyzed in this section ($Y = -1 + 0.5X + ϵ$) should remain the same. You can do this by increasing the variance of the normal distribution used to generate the error term $ϵ$ in (b). Describe your results."
   ]
  },
  {
   "cell_type": "code",
   "execution_count": null,
   "id": "0a29f37b",
   "metadata": {},
   "outputs": [],
   "source": [
    "# BEGIN SOLUTION\n",
    "\n",
    "# END SOLUTION"
   ]
  },
  {
   "cell_type": "markdown",
   "id": "02e98cc2",
   "metadata": {},
   "source": [
    "> **_Answer:_**  [BEGIN SOLUTION]."
   ]
  },
  {
   "cell_type": "markdown",
   "id": "2d626217",
   "metadata": {},
   "source": [
    "j) What are the confidence intervals for $β_0$ and $β_1$ based on the original data set, the noisier data set, and the less noisy data set? Comment on your results."
   ]
  },
  {
   "cell_type": "code",
   "execution_count": null,
   "id": "d07371c8",
   "metadata": {},
   "outputs": [],
   "source": [
    "# BEGIN SOLUTION\n",
    "\n",
    "# END SOLUTION"
   ]
  },
  {
   "cell_type": "markdown",
   "id": "1c1dde45",
   "metadata": {},
   "source": [
    "> **_Answer:_**  [BEGIN SOLUTION]."
   ]
  },
  {
   "cell_type": "markdown",
   "id": "d8125a62",
   "metadata": {},
   "source": [
    "#### Question 7\n",
    "This question focuses on the collinearity problem.\n",
    " \n",
    "(a) Perform the following commands first: "
   ]
  },
  {
   "cell_type": "code",
   "execution_count": null,
   "id": "9677a4b9",
   "metadata": {},
   "outputs": [],
   "source": [
    "np.random.seed(1)\n",
    "x1 = np.random.uniform(size=100)\n",
    "x2 = 0.5 * x1 + np.random.normal(scale=0.1, size=100)\n",
    "y = 2 + 2 * x1 + 0.3 * x2 + np.random.normal(size=100)"
   ]
  },
  {
   "cell_type": "markdown",
   "id": "de21d187",
   "metadata": {},
   "source": [
    "The last line corresponds to creating a linear model in which $y$ is a function of $x_1$ and $x_2$. Write out the form of the linear model. What are the regression coefficients?"
   ]
  },
  {
   "cell_type": "markdown",
   "id": "50b10a64",
   "metadata": {},
   "source": [
    "> **_Answer:_**  [BEGIN SOLUTION]."
   ]
  },
  {
   "cell_type": "markdown",
   "id": "d8574eaf",
   "metadata": {},
   "source": [
    "(b) What is the correlation between $x_1$ and $x_2$? Create a scatterplot displaying the relationship between the variables."
   ]
  },
  {
   "cell_type": "code",
   "execution_count": null,
   "id": "b586fe52",
   "metadata": {},
   "outputs": [],
   "source": [
    "# BEGIN SOLUTION\n",
    "\n",
    "# END SOLUTION"
   ]
  },
  {
   "cell_type": "markdown",
   "id": "6490563a",
   "metadata": {},
   "source": [
    "(c) Using this data, fit a least squares regression to predict $y$ using $x_1$ and $x_2$. Describe the results obtained. What are $β_0$, $β_1$, and $β_2$? How do these relate to the true $β_10$, $β_1$, and $β_2$? Can you reject the null hypothesis $H_0$: $β_1$ = 0? How about the null hypothesis $H_0$: $β_2$ = 0?"
   ]
  },
  {
   "cell_type": "code",
   "execution_count": null,
   "id": "539fce7f",
   "metadata": {},
   "outputs": [],
   "source": [
    "# BEGIN SOLUTION\n",
    "\n",
    "# END SOLUTION"
   ]
  },
  {
   "cell_type": "markdown",
   "id": "c7bcec21",
   "metadata": {},
   "source": [
    "> **_Answer:_**  [BEGIN SOLUTION]."
   ]
  },
  {
   "cell_type": "markdown",
   "id": "9f1805a1",
   "metadata": {},
   "source": [
    "(d) Now fit a least squares regression to predict $y$ using only $x_1$. Comment on your results. Can you reject the null hypothesis $H_0$: $β_1$ = 0?"
   ]
  },
  {
   "cell_type": "code",
   "execution_count": null,
   "id": "b14a005c",
   "metadata": {},
   "outputs": [],
   "source": [
    "# BEGIN SOLUTION\n",
    "\n",
    "# END SOLUTION"
   ]
  },
  {
   "cell_type": "markdown",
   "id": "823cf3d6",
   "metadata": {},
   "source": [
    "> **_Answer:_**  [BEGIN SOLUTION]."
   ]
  },
  {
   "cell_type": "markdown",
   "id": "16654121",
   "metadata": {},
   "source": [
    "(e) Now fit a least squares regression to predict $y$ using only $x_2$. Comment on your results. Can you reject the null hypothesis $H_0$: $β_1$ = 0?"
   ]
  },
  {
   "cell_type": "code",
   "execution_count": null,
   "id": "3185c120",
   "metadata": {},
   "outputs": [],
   "source": [
    "# BEGIN SOLUTION\n",
    "\n",
    "# END SOLUTION"
   ]
  },
  {
   "cell_type": "markdown",
   "id": "37a69e79",
   "metadata": {},
   "source": [
    "> **_Answer:_**  [BEGIN SOLUTION]."
   ]
  },
  {
   "cell_type": "markdown",
   "id": "58f95a5f",
   "metadata": {},
   "source": [
    "(f) Do the results obtained in (c)–(e) contradict each other? Explain your answer."
   ]
  },
  {
   "cell_type": "markdown",
   "id": "6b830cc6",
   "metadata": {},
   "source": [
    "> **_Answer:_**  [BEGIN SOLUTION]."
   ]
  },
  {
   "cell_type": "markdown",
   "id": "2e18fec4",
   "metadata": {},
   "source": [
    "(g) Now suppose we obtain one additional observation, which was unfortunately mismeasured. Make up a new data point for this observation and re-fit the linear models from parts (c) to (e). What effect does this new observation have on each of the models? In each model, is this observation an outlier? A high-leverage point? Both? Explain your answers."
   ]
  },
  {
   "cell_type": "code",
   "execution_count": null,
   "id": "abc8f7a6",
   "metadata": {},
   "outputs": [],
   "source": [
    "# BEGIN SOLUTION\n",
    "\n",
    "# END SOLUTION"
   ]
  },
  {
   "cell_type": "markdown",
   "id": "1e95ac70",
   "metadata": {},
   "source": [
    "> **_Answer:_**  [BEGIN SOLUTION]."
   ]
  },
  {
   "cell_type": "markdown",
   "id": "f5bce2db",
   "metadata": {},
   "source": [
    "#### Question 8\n",
    "\n",
    "It is claimed that in the case of simple linear regression of $Y$ onto $X$, the $R^2$ statistic is equal to the square of the correlation between $X$ and $Y$. Generate some synthetic data and show that this is the case."
   ]
  },
  {
   "cell_type": "code",
   "execution_count": null,
   "id": "b9ec7284",
   "metadata": {},
   "outputs": [],
   "source": [
    "# BEGIN SOLUTION\n",
    "\n",
    "# END SOLUTION"
   ]
  },
  {
   "cell_type": "markdown",
   "id": "e1bd0d09",
   "metadata": {},
   "source": [
    "### Extra credit"
   ]
  },
  {
   "cell_type": "markdown",
   "id": "964dcb52",
   "metadata": {},
   "source": [
    "#### Question 1\n",
    "\n",
    "Consider the fitted values that result from performing linear regression without an intercept. In this setting, the ith fitted value takes the form \n",
    "$$\n",
    "\\hat{y}_i = x_i \\hat{\\beta}\n",
    "$$\n",
    "\n",
    "Where, \n",
    "$$\n",
    "\\hat{\\beta} = \\left( \\sum_{i=1}^n x_{i} y_{i} \\right) / \\left( \\sum_{i'=1}^n x_{i'}^2 \\right)\n",
    "$$\n",
    "\n",
    "Show that we can write\n",
    "$$\n",
    "\\hat{y}_i = \\sum_{i'=1}^n a'_i y'_i\n",
    "$$\n",
    "\n",
    "What is $a'_i$?"
   ]
  },
  {
   "cell_type": "markdown",
   "id": "c8a15e9f",
   "metadata": {},
   "source": [
    "> **_Answer:_**  [BEGIN SOLUTION]."
   ]
  },
  {
   "cell_type": "markdown",
   "id": "3e3a377b",
   "metadata": {},
   "source": [
    "#### Question 2\n",
    "\n",
    "Given that,\n",
    "$$\\hat{\\beta}_1 = \\dfrac{\\displaystyle\\sum\\limits_{i=1}^{n} (x_i-\\bar{x})(y_i-\\bar{y}) }{\\displaystyle \\sum\\limits_{i=1}^{n}(x_i-\\bar{x})^2}\\text{,}$$\n",
    "and $\\hat{\\beta}_0 = \\bar{y}-\\hat{\\beta}_1\\bar{x}$, argue that in the case of simple linear regression, the least squares line always passes through the point ($\\bar{x}$, $\\bar{y}$)."
   ]
  },
  {
   "cell_type": "markdown",
   "id": "71b5b520",
   "metadata": {},
   "source": [
    "> **_Answer:_**  [BEGIN SOLUTION]."
   ]
  }
 ],
 "metadata": {
  "kernelspec": {
   "display_name": "Python 3 (ipykernel)",
   "language": "python",
   "name": "python3"
  },
  "language_info": {
   "codemirror_mode": {
    "name": "ipython",
    "version": 3
   },
   "file_extension": ".py",
   "mimetype": "text/x-python",
   "name": "python",
   "nbconvert_exporter": "python",
   "pygments_lexer": "ipython3",
   "version": "3.11.4"
  }
 },
 "nbformat": 4,
 "nbformat_minor": 5
}
